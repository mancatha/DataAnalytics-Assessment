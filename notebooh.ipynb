{
 "cells": [
  {
   "cell_type": "code",
   "execution_count": 1,
   "id": "f4633584",
   "metadata": {},
   "outputs": [],
   "source": [
    "import pandas as pd \n",
    "import numpy as np"
   ]
  },
  {
   "cell_type": "code",
   "execution_count": 2,
   "id": "86886e0e",
   "metadata": {},
   "outputs": [
    {
     "name": "stderr",
     "output_type": "stream",
     "text": [
      "C:\\Users\\manca\\AppData\\Local\\Temp\\ipykernel_11928\\930370680.py:2: DtypeWarning: Columns (30,34) have mixed types. Specify dtype option on import or set low_memory=False.\n",
      "  df_1  =pd.read_csv(\"savings_savingsaccount.csv\")\n"
     ]
    }
   ],
   "source": [
    "df= pd.read_csv(\"plans_plan.csv\")\n",
    "df_1  =pd.read_csv(\"savings_savingsaccount.csv\")\n",
    "df_2 = pd.read_csv(\"users_customuser.csv\")\n",
    "df_3 = pd.read_csv(\"withdrawals_withdrawal.csv\")"
   ]
  },
  {
   "cell_type": "code",
   "execution_count": 3,
   "id": "3e44ae12",
   "metadata": {},
   "outputs": [
    {
     "name": "stdout",
     "output_type": "stream",
     "text": [
      "<class 'pandas.core.frame.DataFrame'>\n",
      "RangeIndex: 9641 entries, 0 to 9640\n",
      "Data columns (total 56 columns):\n",
      " #   Column                 Non-Null Count  Dtype  \n",
      "---  ------                 --------------  -----  \n",
      " 0   id                     9641 non-null   object \n",
      " 1   name                   9635 non-null   object \n",
      " 2   description            9641 non-null   object \n",
      " 3   amount                 9641 non-null   int64  \n",
      " 4   start_date             9609 non-null   object \n",
      " 5   last_charge_date       3369 non-null   object \n",
      " 6   next_charge_date       5749 non-null   object \n",
      " 7   created_on             9641 non-null   object \n",
      " 8   frequency_id           9641 non-null   int64  \n",
      " 9   owner_id               9641 non-null   object \n",
      " 10  status_id              9641 non-null   int64  \n",
      " 11  interest_rate          9641 non-null   float64\n",
      " 12  withdrawal_date        816 non-null    object \n",
      " 13  default_plan           9641 non-null   int64  \n",
      " 14  plan_type_id           9641 non-null   int64  \n",
      " 15  goal                   9641 non-null   float64\n",
      " 16  locked                 9641 non-null   int64  \n",
      " 17  next_returns_date      9641 non-null   object \n",
      " 18  last_returns_date      9641 non-null   object \n",
      " 19  cowry_amount           9641 non-null   int64  \n",
      " 20  debit_card             5597 non-null   object \n",
      " 21  is_archived            9641 non-null   int64  \n",
      " 22  is_deleted             9641 non-null   int64  \n",
      " 23  is_goal_achieved       9641 non-null   int64  \n",
      " 24  is_a_goal              9641 non-null   int64  \n",
      " 25  is_interest_free       9641 non-null   int64  \n",
      " 26  plan_group_id          2000 non-null   object \n",
      " 27  is_deleted_from_group  9641 non-null   int64  \n",
      " 28  is_a_fund              9641 non-null   int64  \n",
      " 29  purchased_fund_id      1227 non-null   object \n",
      " 30  is_a_wallet            9641 non-null   int64  \n",
      " 31  currency_is_dollars    9641 non-null   int64  \n",
      " 32  is_auto_rollover       9641 non-null   int64  \n",
      " 33  is_vendor_plan         9641 non-null   int64  \n",
      " 34  plan_source            9641 non-null   object \n",
      " 35  is_donation_plan       9641 non-null   int64  \n",
      " 36  donation_description   40 non-null     object \n",
      " 37  donation_expiry_date   40 non-null     object \n",
      " 38  donation_link          40 non-null     object \n",
      " 39  link_code              40 non-null     object \n",
      " 40  charge_payment_fee     9641 non-null   int64  \n",
      " 41  donation_is_approved   9641 non-null   int64  \n",
      " 42  is_emergency_plan      9641 non-null   int64  \n",
      " 43  is_personal_challenge  9641 non-null   int64  \n",
      " 44  currency_id            9641 non-null   int64  \n",
      " 45  is_a_usd_index         9641 non-null   int64  \n",
      " 46  usd_index_id           38 non-null     object \n",
      " 47  open_savings_plan      9641 non-null   int64  \n",
      " 48  new_cycle              9641 non-null   int64  \n",
      " 49  recurrence             2227 non-null   object \n",
      " 50  is_bloom_note          9641 non-null   int64  \n",
      " 51  is_managed_portfolio   9641 non-null   int64  \n",
      " 52  portfolio_holdings_id  222 non-null    object \n",
      " 53  is_fixed_investment    9641 non-null   int64  \n",
      " 54  is_regular_savings     9641 non-null   int64  \n",
      " 55  preset_id              566 non-null    float64\n",
      "dtypes: float64(3), int64(31), object(22)\n",
      "memory usage: 4.1+ MB\n"
     ]
    }
   ],
   "source": [
    "df.info()\n"
   ]
  },
  {
   "cell_type": "code",
   "execution_count": 4,
   "id": "2bb78406",
   "metadata": {},
   "outputs": [
    {
     "name": "stdout",
     "output_type": "stream",
     "text": [
      "<class 'pandas.core.frame.DataFrame'>\n",
      "RangeIndex: 163736 entries, 0 to 163735\n",
      "Data columns (total 37 columns):\n",
      " #   Column                         Non-Null Count   Dtype  \n",
      "---  ------                         --------------   -----  \n",
      " 0   id                             163736 non-null  int64  \n",
      " 1   savings_id                     163511 non-null  object \n",
      " 2   maturity_start_date            163736 non-null  object \n",
      " 3   maturity_end_date              163736 non-null  object \n",
      " 4   amount                         163736 non-null  float64\n",
      " 5   confirmed_amount               163736 non-null  float64\n",
      " 6   deduction_amount               163736 non-null  float64\n",
      " 7   new_balance                    163736 non-null  float64\n",
      " 8   transaction_date               163736 non-null  object \n",
      " 9   transaction_reference          163736 non-null  object \n",
      " 10  transaction_status             163736 non-null  object \n",
      " 11  verification_call_amount       41623 non-null   float64\n",
      " 12  verification_call_message      42677 non-null   object \n",
      " 13  verification_call_code         41622 non-null   float64\n",
      " 14  verification_transaction_date  39660 non-null   object \n",
      " 15  book_returns                   163736 non-null  float64\n",
      " 16  available_returns              163736 non-null  float64\n",
      " 17  returns_on_hold                163736 non-null  int64  \n",
      " 18  last_returns_date              163736 non-null  object \n",
      " 19  next_returns_date              163736 non-null  object \n",
      " 20  created_on                     163736 non-null  object \n",
      " 21  card_billed_id                 158592 non-null  object \n",
      " 22  channel_id                     163736 non-null  int64  \n",
      " 23  charging_method_id             163736 non-null  int64  \n",
      " 24  owner_id                       163736 non-null  object \n",
      " 25  plan_id                        163736 non-null  object \n",
      " 26  transaction_type_id            163736 non-null  int64  \n",
      " 27  verification_status_id         163736 non-null  int64  \n",
      " 28  gateway_response_message       160272 non-null  object \n",
      " 29  fee_in_kobo                    163736 non-null  float64\n",
      " 30  donor_id                       81 non-null      object \n",
      " 31  is_anonymous                   163736 non-null  int64  \n",
      " 32  description                    4959 non-null    object \n",
      " 33  payment_gateway                154118 non-null  object \n",
      " 34  source_bank_account            701 non-null     object \n",
      " 35  currency                       148177 non-null  object \n",
      " 36  fee_in_cents                   163736 non-null  float64\n",
      "dtypes: float64(10), int64(7), object(20)\n",
      "memory usage: 46.2+ MB\n"
     ]
    }
   ],
   "source": [
    "df_1.info()\n"
   ]
  },
  {
   "cell_type": "code",
   "execution_count": 5,
   "id": "1989869d",
   "metadata": {},
   "outputs": [
    {
     "name": "stdout",
     "output_type": "stream",
     "text": [
      "<class 'pandas.core.frame.DataFrame'>\n",
      "RangeIndex: 1867 entries, 0 to 1866\n",
      "Data columns (total 57 columns):\n",
      " #   Column                       Non-Null Count  Dtype  \n",
      "---  ------                       --------------  -----  \n",
      " 0   password                     1854 non-null   object \n",
      " 1   last_login                   1845 non-null   object \n",
      " 2   is_superuser                 1867 non-null   int64  \n",
      " 3   id                           1867 non-null   object \n",
      " 4   email                        1867 non-null   object \n",
      " 5   name                         0 non-null      float64\n",
      " 6   first_name                   1799 non-null   object \n",
      " 7   last_name                    1799 non-null   object \n",
      " 8   phone_number                 1710 non-null   object \n",
      " 9   date_of_birth                851 non-null    object \n",
      " 10  is_staff                     1867 non-null   int64  \n",
      " 11  is_active                    1867 non-null   int64  \n",
      " 12  date_joined                  1867 non-null   object \n",
      " 13  is_admin                     1867 non-null   int64  \n",
      " 14  username                     1863 non-null   object \n",
      " 15  created_on                   1867 non-null   object \n",
      " 16  gender_id                    733 non-null    float64\n",
      " 17  invite_code                  1 non-null      object \n",
      " 18  avatar_firebase_reference    94 non-null     object \n",
      " 19  avatar_local_uri             32 non-null     object \n",
      " 20  avatar_url                   94 non-null     object \n",
      " 21  risk_apetite                 1867 non-null   int64  \n",
      " 22  current_latitude             410 non-null    float64\n",
      " 23  current_longitude            410 non-null    float64\n",
      " 24  postal_address               47 non-null     object \n",
      " 25  pin                          1514 non-null   object \n",
      " 26  ambassador_profile_id        1467 non-null   object \n",
      " 27  is_ambassador                1867 non-null   int64  \n",
      " 28  account_source               1867 non-null   object \n",
      " 29  is_vendor_account            1867 non-null   int64  \n",
      " 30  is_business_account          1867 non-null   int64  \n",
      " 31  is_account_deleted           1867 non-null   int64  \n",
      " 32  vendor_code                  1867 non-null   object \n",
      " 33  is_halal_account             1867 non-null   int64  \n",
      " 34  address_city                 40 non-null     object \n",
      " 35  address_country              12 non-null     object \n",
      " 36  address_state                28 non-null     object \n",
      " 37  address_street               40 non-null     object \n",
      " 38  monthly_expense              1867 non-null   int64  \n",
      " 39  monthly_salary               1867 non-null   int64  \n",
      " 40  is_account_disabled          1867 non-null   int64  \n",
      " 41  authy_id                     30 non-null     object \n",
      " 42  fraud_score                  1867 non-null   int64  \n",
      " 43  account_campaign             32 non-null     object \n",
      " 44  account_medium               338 non-null    object \n",
      " 45  last_password_change         43 non-null     object \n",
      " 46  last_pin_change              1477 non-null   object \n",
      " 47  is_private                   1867 non-null   int64  \n",
      " 48  disabled_at                  20 non-null     object \n",
      " 49  is_disabled_by_owner         1867 non-null   int64  \n",
      " 50  is_account_deleted_by_owner  1867 non-null   int64  \n",
      " 51  proposed_deletion_date       3 non-null      object \n",
      " 52  reason_for_deletion          9 non-null      object \n",
      " 53  enabled_at                   15 non-null     object \n",
      " 54  signup_device                1313 non-null   object \n",
      " 55  proposed_enablement_date     0 non-null      float64\n",
      " 56  tier_id                      752 non-null    float64\n",
      "dtypes: float64(6), int64(17), object(34)\n",
      "memory usage: 831.5+ KB\n"
     ]
    }
   ],
   "source": [
    "df_2.info()\n"
   ]
  },
  {
   "cell_type": "code",
   "execution_count": 6,
   "id": "f2c502a7",
   "metadata": {},
   "outputs": [
    {
     "name": "stdout",
     "output_type": "stream",
     "text": [
      "<class 'pandas.core.frame.DataFrame'>\n",
      "RangeIndex: 1308 entries, 0 to 1307\n",
      "Data columns (total 23 columns):\n",
      " #   Column                  Non-Null Count  Dtype  \n",
      "---  ------                  --------------  -----  \n",
      " 0   id                      1308 non-null   int64  \n",
      " 1   amount                  1308 non-null   float64\n",
      " 2   amount_withdrawn        1308 non-null   float64\n",
      " 3   transaction_reference   1308 non-null   object \n",
      " 4   transaction_date        1308 non-null   object \n",
      " 5   new_balance             1308 non-null   float64\n",
      " 6   bank_id                 1221 non-null   float64\n",
      " 7   owner_id                1308 non-null   object \n",
      " 8   plan_id                 1308 non-null   object \n",
      " 9   transaction_channel_id  1308 non-null   int64  \n",
      " 10  transaction_status_id   1308 non-null   int64  \n",
      " 11  transaction_type_id     1308 non-null   int64  \n",
      " 12  fee_in_kobo             1308 non-null   int64  \n",
      " 13  description             99 non-null     object \n",
      " 14  gateway                 195 non-null    object \n",
      " 15  gateway_response        224 non-null    object \n",
      " 16  session_id              0 non-null      float64\n",
      " 17  currency                1308 non-null   object \n",
      " 18  fee_in_cents            1308 non-null   float64\n",
      " 19  payment_id              0 non-null      float64\n",
      " 20  created_on              1308 non-null   object \n",
      " 21  updated_on              1308 non-null   object \n",
      " 22  withdrawal_intent_id    383 non-null    float64\n",
      "dtypes: float64(8), int64(5), object(10)\n",
      "memory usage: 235.2+ KB\n"
     ]
    }
   ],
   "source": [
    "df_3.info()"
   ]
  }
 ],
 "metadata": {
  "kernelspec": {
   "display_name": "Python 3",
   "language": "python",
   "name": "python3"
  },
  "language_info": {
   "codemirror_mode": {
    "name": "ipython",
    "version": 3
   },
   "file_extension": ".py",
   "mimetype": "text/x-python",
   "name": "python",
   "nbconvert_exporter": "python",
   "pygments_lexer": "ipython3",
   "version": "3.11.9"
  }
 },
 "nbformat": 4,
 "nbformat_minor": 5
}
