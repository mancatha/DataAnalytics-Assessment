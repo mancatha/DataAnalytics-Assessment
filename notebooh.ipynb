{
 "cells": [
  {
   "cell_type": "code",
   "execution_count": 1,
   "id": "f4633584",
   "metadata": {},
   "outputs": [],
   "source": [
    "import pandas as pd \n",
    "import numpy as np\n",
    "import matplotlib.pyplot as plt"
   ]
  },
  {
   "cell_type": "code",
   "execution_count": 2,
   "id": "86886e0e",
   "metadata": {},
   "outputs": [
    {
     "name": "stderr",
     "output_type": "stream",
     "text": [
      "C:\\Users\\manca\\AppData\\Local\\Temp\\ipykernel_12404\\930370680.py:2: DtypeWarning: Columns (30,34) have mixed types. Specify dtype option on import or set low_memory=False.\n",
      "  df_1  =pd.read_csv(\"savings_savingsaccount.csv\")\n"
     ]
    }
   ],
   "source": [
    "df= pd.read_csv(\"plans_plan.csv\")\n",
    "df_1  =pd.read_csv(\"savings_savingsaccount.csv\")\n",
    "df_2 = pd.read_csv(\"users_customuser.csv\")\n",
    "df_3 = pd.read_csv(\"withdrawals_withdrawal.csv\")"
   ]
  },
  {
   "cell_type": "code",
   "execution_count": 3,
   "id": "3e44ae12",
   "metadata": {},
   "outputs": [
    {
     "name": "stdout",
     "output_type": "stream",
     "text": [
      "<class 'pandas.core.frame.DataFrame'>\n",
      "RangeIndex: 9641 entries, 0 to 9640\n",
      "Data columns (total 56 columns):\n",
      " #   Column                 Non-Null Count  Dtype  \n",
      "---  ------                 --------------  -----  \n",
      " 0   id                     9641 non-null   object \n",
      " 1   name                   9635 non-null   object \n",
      " 2   description            9641 non-null   object \n",
      " 3   amount                 9641 non-null   int64  \n",
      " 4   start_date             9609 non-null   object \n",
      " 5   last_charge_date       3369 non-null   object \n",
      " 6   next_charge_date       5749 non-null   object \n",
      " 7   created_on             9641 non-null   object \n",
      " 8   frequency_id           9641 non-null   int64  \n",
      " 9   owner_id               9641 non-null   object \n",
      " 10  status_id              9641 non-null   int64  \n",
      " 11  interest_rate          9641 non-null   float64\n",
      " 12  withdrawal_date        816 non-null    object \n",
      " 13  default_plan           9641 non-null   int64  \n",
      " 14  plan_type_id           9641 non-null   int64  \n",
      " 15  goal                   9641 non-null   float64\n",
      " 16  locked                 9641 non-null   int64  \n",
      " 17  next_returns_date      9641 non-null   object \n",
      " 18  last_returns_date      9641 non-null   object \n",
      " 19  cowry_amount           9641 non-null   int64  \n",
      " 20  debit_card             5597 non-null   object \n",
      " 21  is_archived            9641 non-null   int64  \n",
      " 22  is_deleted             9641 non-null   int64  \n",
      " 23  is_goal_achieved       9641 non-null   int64  \n",
      " 24  is_a_goal              9641 non-null   int64  \n",
      " 25  is_interest_free       9641 non-null   int64  \n",
      " 26  plan_group_id          2000 non-null   object \n",
      " 27  is_deleted_from_group  9641 non-null   int64  \n",
      " 28  is_a_fund              9641 non-null   int64  \n",
      " 29  purchased_fund_id      1227 non-null   object \n",
      " 30  is_a_wallet            9641 non-null   int64  \n",
      " 31  currency_is_dollars    9641 non-null   int64  \n",
      " 32  is_auto_rollover       9641 non-null   int64  \n",
      " 33  is_vendor_plan         9641 non-null   int64  \n",
      " 34  plan_source            9641 non-null   object \n",
      " 35  is_donation_plan       9641 non-null   int64  \n",
      " 36  donation_description   40 non-null     object \n",
      " 37  donation_expiry_date   40 non-null     object \n",
      " 38  donation_link          40 non-null     object \n",
      " 39  link_code              40 non-null     object \n",
      " 40  charge_payment_fee     9641 non-null   int64  \n",
      " 41  donation_is_approved   9641 non-null   int64  \n",
      " 42  is_emergency_plan      9641 non-null   int64  \n",
      " 43  is_personal_challenge  9641 non-null   int64  \n",
      " 44  currency_id            9641 non-null   int64  \n",
      " 45  is_a_usd_index         9641 non-null   int64  \n",
      " 46  usd_index_id           38 non-null     object \n",
      " 47  open_savings_plan      9641 non-null   int64  \n",
      " 48  new_cycle              9641 non-null   int64  \n",
      " 49  recurrence             2227 non-null   object \n",
      " 50  is_bloom_note          9641 non-null   int64  \n",
      " 51  is_managed_portfolio   9641 non-null   int64  \n",
      " 52  portfolio_holdings_id  222 non-null    object \n",
      " 53  is_fixed_investment    9641 non-null   int64  \n",
      " 54  is_regular_savings     9641 non-null   int64  \n",
      " 55  preset_id              566 non-null    float64\n",
      "dtypes: float64(3), int64(31), object(22)\n",
      "memory usage: 4.1+ MB\n"
     ]
    }
   ],
   "source": [
    "df.info()\n"
   ]
  },
  {
   "cell_type": "code",
   "execution_count": 4,
   "id": "2bb78406",
   "metadata": {},
   "outputs": [
    {
     "name": "stdout",
     "output_type": "stream",
     "text": [
      "<class 'pandas.core.frame.DataFrame'>\n",
      "RangeIndex: 163736 entries, 0 to 163735\n",
      "Data columns (total 37 columns):\n",
      " #   Column                         Non-Null Count   Dtype  \n",
      "---  ------                         --------------   -----  \n",
      " 0   id                             163736 non-null  int64  \n",
      " 1   savings_id                     163511 non-null  object \n",
      " 2   maturity_start_date            163736 non-null  object \n",
      " 3   maturity_end_date              163736 non-null  object \n",
      " 4   amount                         163736 non-null  float64\n",
      " 5   confirmed_amount               163736 non-null  float64\n",
      " 6   deduction_amount               163736 non-null  float64\n",
      " 7   new_balance                    163736 non-null  float64\n",
      " 8   transaction_date               163736 non-null  object \n",
      " 9   transaction_reference          163736 non-null  object \n",
      " 10  transaction_status             163736 non-null  object \n",
      " 11  verification_call_amount       41623 non-null   float64\n",
      " 12  verification_call_message      42677 non-null   object \n",
      " 13  verification_call_code         41622 non-null   float64\n",
      " 14  verification_transaction_date  39660 non-null   object \n",
      " 15  book_returns                   163736 non-null  float64\n",
      " 16  available_returns              163736 non-null  float64\n",
      " 17  returns_on_hold                163736 non-null  int64  \n",
      " 18  last_returns_date              163736 non-null  object \n",
      " 19  next_returns_date              163736 non-null  object \n",
      " 20  created_on                     163736 non-null  object \n",
      " 21  card_billed_id                 158592 non-null  object \n",
      " 22  channel_id                     163736 non-null  int64  \n",
      " 23  charging_method_id             163736 non-null  int64  \n",
      " 24  owner_id                       163736 non-null  object \n",
      " 25  plan_id                        163736 non-null  object \n",
      " 26  transaction_type_id            163736 non-null  int64  \n",
      " 27  verification_status_id         163736 non-null  int64  \n",
      " 28  gateway_response_message       160272 non-null  object \n",
      " 29  fee_in_kobo                    163736 non-null  float64\n",
      " 30  donor_id                       81 non-null      object \n",
      " 31  is_anonymous                   163736 non-null  int64  \n",
      " 32  description                    4959 non-null    object \n",
      " 33  payment_gateway                154118 non-null  object \n",
      " 34  source_bank_account            701 non-null     object \n",
      " 35  currency                       148177 non-null  object \n",
      " 36  fee_in_cents                   163736 non-null  float64\n",
      "dtypes: float64(10), int64(7), object(20)\n",
      "memory usage: 46.2+ MB\n"
     ]
    }
   ],
   "source": [
    "df_1.info()\n"
   ]
  },
  {
   "cell_type": "code",
   "execution_count": 5,
   "id": "1989869d",
   "metadata": {},
   "outputs": [
    {
     "name": "stdout",
     "output_type": "stream",
     "text": [
      "<class 'pandas.core.frame.DataFrame'>\n",
      "RangeIndex: 1867 entries, 0 to 1866\n",
      "Data columns (total 57 columns):\n",
      " #   Column                       Non-Null Count  Dtype  \n",
      "---  ------                       --------------  -----  \n",
      " 0   password                     1854 non-null   object \n",
      " 1   last_login                   1845 non-null   object \n",
      " 2   is_superuser                 1867 non-null   int64  \n",
      " 3   id                           1867 non-null   object \n",
      " 4   email                        1867 non-null   object \n",
      " 5   name                         0 non-null      float64\n",
      " 6   first_name                   1799 non-null   object \n",
      " 7   last_name                    1799 non-null   object \n",
      " 8   phone_number                 1710 non-null   object \n",
      " 9   date_of_birth                851 non-null    object \n",
      " 10  is_staff                     1867 non-null   int64  \n",
      " 11  is_active                    1867 non-null   int64  \n",
      " 12  date_joined                  1867 non-null   object \n",
      " 13  is_admin                     1867 non-null   int64  \n",
      " 14  username                     1863 non-null   object \n",
      " 15  created_on                   1867 non-null   object \n",
      " 16  gender_id                    733 non-null    float64\n",
      " 17  invite_code                  1 non-null      object \n",
      " 18  avatar_firebase_reference    94 non-null     object \n",
      " 19  avatar_local_uri             32 non-null     object \n",
      " 20  avatar_url                   94 non-null     object \n",
      " 21  risk_apetite                 1867 non-null   int64  \n",
      " 22  current_latitude             410 non-null    float64\n",
      " 23  current_longitude            410 non-null    float64\n",
      " 24  postal_address               47 non-null     object \n",
      " 25  pin                          1514 non-null   object \n",
      " 26  ambassador_profile_id        1467 non-null   object \n",
      " 27  is_ambassador                1867 non-null   int64  \n",
      " 28  account_source               1867 non-null   object \n",
      " 29  is_vendor_account            1867 non-null   int64  \n",
      " 30  is_business_account          1867 non-null   int64  \n",
      " 31  is_account_deleted           1867 non-null   int64  \n",
      " 32  vendor_code                  1867 non-null   object \n",
      " 33  is_halal_account             1867 non-null   int64  \n",
      " 34  address_city                 40 non-null     object \n",
      " 35  address_country              12 non-null     object \n",
      " 36  address_state                28 non-null     object \n",
      " 37  address_street               40 non-null     object \n",
      " 38  monthly_expense              1867 non-null   int64  \n",
      " 39  monthly_salary               1867 non-null   int64  \n",
      " 40  is_account_disabled          1867 non-null   int64  \n",
      " 41  authy_id                     30 non-null     object \n",
      " 42  fraud_score                  1867 non-null   int64  \n",
      " 43  account_campaign             32 non-null     object \n",
      " 44  account_medium               338 non-null    object \n",
      " 45  last_password_change         43 non-null     object \n",
      " 46  last_pin_change              1477 non-null   object \n",
      " 47  is_private                   1867 non-null   int64  \n",
      " 48  disabled_at                  20 non-null     object \n",
      " 49  is_disabled_by_owner         1867 non-null   int64  \n",
      " 50  is_account_deleted_by_owner  1867 non-null   int64  \n",
      " 51  proposed_deletion_date       3 non-null      object \n",
      " 52  reason_for_deletion          9 non-null      object \n",
      " 53  enabled_at                   15 non-null     object \n",
      " 54  signup_device                1313 non-null   object \n",
      " 55  proposed_enablement_date     0 non-null      float64\n",
      " 56  tier_id                      752 non-null    float64\n",
      "dtypes: float64(6), int64(17), object(34)\n",
      "memory usage: 831.5+ KB\n"
     ]
    }
   ],
   "source": [
    "df_2.info()\n"
   ]
  },
  {
   "cell_type": "code",
   "execution_count": 6,
   "id": "f2c502a7",
   "metadata": {},
   "outputs": [
    {
     "name": "stdout",
     "output_type": "stream",
     "text": [
      "<class 'pandas.core.frame.DataFrame'>\n",
      "RangeIndex: 1308 entries, 0 to 1307\n",
      "Data columns (total 23 columns):\n",
      " #   Column                  Non-Null Count  Dtype  \n",
      "---  ------                  --------------  -----  \n",
      " 0   id                      1308 non-null   int64  \n",
      " 1   amount                  1308 non-null   float64\n",
      " 2   amount_withdrawn        1308 non-null   float64\n",
      " 3   transaction_reference   1308 non-null   object \n",
      " 4   transaction_date        1308 non-null   object \n",
      " 5   new_balance             1308 non-null   float64\n",
      " 6   bank_id                 1221 non-null   float64\n",
      " 7   owner_id                1308 non-null   object \n",
      " 8   plan_id                 1308 non-null   object \n",
      " 9   transaction_channel_id  1308 non-null   int64  \n",
      " 10  transaction_status_id   1308 non-null   int64  \n",
      " 11  transaction_type_id     1308 non-null   int64  \n",
      " 12  fee_in_kobo             1308 non-null   int64  \n",
      " 13  description             99 non-null     object \n",
      " 14  gateway                 195 non-null    object \n",
      " 15  gateway_response        224 non-null    object \n",
      " 16  session_id              0 non-null      float64\n",
      " 17  currency                1308 non-null   object \n",
      " 18  fee_in_cents            1308 non-null   float64\n",
      " 19  payment_id              0 non-null      float64\n",
      " 20  created_on              1308 non-null   object \n",
      " 21  updated_on              1308 non-null   object \n",
      " 22  withdrawal_intent_id    383 non-null    float64\n",
      "dtypes: float64(8), int64(5), object(10)\n",
      "memory usage: 235.2+ KB\n"
     ]
    }
   ],
   "source": [
    "df_3.info()"
   ]
  },
  {
   "cell_type": "markdown",
   "id": "db7e84fb",
   "metadata": {},
   "source": [
    "### Cleaning the data "
   ]
  },
  {
   "cell_type": "markdown",
   "id": "59ddc896",
   "metadata": {},
   "source": [
    "#### Plans"
   ]
  },
  {
   "cell_type": "code",
   "execution_count": 7,
   "id": "ecaa85b5",
   "metadata": {},
   "outputs": [
    {
     "data": {
      "text/plain": [
       "id                          0\n",
       "name                        6\n",
       "description                 0\n",
       "amount                      0\n",
       "start_date                 32\n",
       "last_charge_date         6272\n",
       "next_charge_date         3892\n",
       "created_on                  0\n",
       "frequency_id                0\n",
       "owner_id                    0\n",
       "status_id                   0\n",
       "interest_rate               0\n",
       "withdrawal_date          8825\n",
       "default_plan                0\n",
       "plan_type_id                0\n",
       "goal                        0\n",
       "locked                      0\n",
       "next_returns_date           0\n",
       "last_returns_date           0\n",
       "cowry_amount                0\n",
       "debit_card               4044\n",
       "is_archived                 0\n",
       "is_deleted                  0\n",
       "is_goal_achieved            0\n",
       "is_a_goal                   0\n",
       "is_interest_free            0\n",
       "plan_group_id            7641\n",
       "is_deleted_from_group       0\n",
       "is_a_fund                   0\n",
       "purchased_fund_id        8414\n",
       "is_a_wallet                 0\n",
       "currency_is_dollars         0\n",
       "is_auto_rollover            0\n",
       "is_vendor_plan              0\n",
       "plan_source                 0\n",
       "is_donation_plan            0\n",
       "donation_description     9601\n",
       "donation_expiry_date     9601\n",
       "donation_link            9601\n",
       "link_code                9601\n",
       "charge_payment_fee          0\n",
       "donation_is_approved        0\n",
       "is_emergency_plan           0\n",
       "is_personal_challenge       0\n",
       "currency_id                 0\n",
       "is_a_usd_index              0\n",
       "usd_index_id             9603\n",
       "open_savings_plan           0\n",
       "new_cycle                   0\n",
       "recurrence               7414\n",
       "is_bloom_note               0\n",
       "is_managed_portfolio        0\n",
       "portfolio_holdings_id    9419\n",
       "is_fixed_investment         0\n",
       "is_regular_savings          0\n",
       "preset_id                9075\n",
       "dtype: int64"
      ]
     },
     "execution_count": 7,
     "metadata": {},
     "output_type": "execute_result"
    }
   ],
   "source": [
    "df.isnull().sum()"
   ]
  },
  {
   "cell_type": "markdown",
   "id": "327aa94c",
   "metadata": {},
   "source": [
    "droping columns"
   ]
  },
  {
   "cell_type": "code",
   "execution_count": 8,
   "id": "ac8ede45",
   "metadata": {},
   "outputs": [
    {
     "data": {
      "text/plain": [
       "id                          0\n",
       "name                        6\n",
       "description                 0\n",
       "amount                      0\n",
       "start_date                 32\n",
       "last_charge_date         6272\n",
       "next_charge_date         3892\n",
       "created_on                  0\n",
       "frequency_id                0\n",
       "owner_id                    0\n",
       "status_id                   0\n",
       "interest_rate               0\n",
       "withdrawal_date          8825\n",
       "default_plan                0\n",
       "plan_type_id                0\n",
       "goal                        0\n",
       "locked                      0\n",
       "next_returns_date           0\n",
       "last_returns_date           0\n",
       "cowry_amount                0\n",
       "debit_card               4044\n",
       "is_archived                 0\n",
       "is_deleted                  0\n",
       "is_goal_achieved            0\n",
       "is_a_goal                   0\n",
       "is_interest_free            0\n",
       "is_deleted_from_group       0\n",
       "is_a_fund                   0\n",
       "is_a_wallet                 0\n",
       "currency_is_dollars         0\n",
       "is_auto_rollover            0\n",
       "is_vendor_plan              0\n",
       "plan_source                 0\n",
       "is_donation_plan            0\n",
       "charge_payment_fee          0\n",
       "donation_is_approved        0\n",
       "is_emergency_plan           0\n",
       "is_personal_challenge       0\n",
       "currency_id                 0\n",
       "is_a_usd_index              0\n",
       "open_savings_plan           0\n",
       "new_cycle                   0\n",
       "is_bloom_note               0\n",
       "is_managed_portfolio        0\n",
       "is_fixed_investment         0\n",
       "is_regular_savings          0\n",
       "dtype: int64"
      ]
     },
     "execution_count": 8,
     "metadata": {},
     "output_type": "execute_result"
    }
   ],
   "source": [
    "# Droping columns with too many nulls\n",
    "cols_to_drop = [\n",
    "    'plan_group_id', 'purchased_fund_id', 'donation_description',\n",
    "    'donation_expiry_date', 'donation_link', 'link_code',\n",
    "    'usd_index_id', 'portfolio_holdings_id', 'preset_id','recurrence'\n",
    "]\n",
    "plans_df = df.drop(columns=cols_to_drop)\n",
    "\n",
    "\n",
    "\n",
    "# checking how many nulls remain\n",
    "plans_df.isnull().sum()"
   ]
  },
  {
   "cell_type": "code",
   "execution_count": 9,
   "id": "046e83b1",
   "metadata": {},
   "outputs": [
    {
     "data": {
      "text/plain": [
       "0"
      ]
     },
     "execution_count": 9,
     "metadata": {},
     "output_type": "execute_result"
    }
   ],
   "source": [
    "plans_df.duplicated().sum()"
   ]
  },
  {
   "cell_type": "markdown",
   "id": "696ccb2f",
   "metadata": {},
   "source": [
    "filling in missing value"
   ]
  },
  {
   "cell_type": "code",
   "execution_count": 10,
   "id": "337f9967",
   "metadata": {},
   "outputs": [],
   "source": [
    "plans_df['name'] = plans_df['name'].fillna('Unnamed Plan')"
   ]
  },
  {
   "cell_type": "code",
   "execution_count": 11,
   "id": "c53ac0d2",
   "metadata": {},
   "outputs": [
    {
     "name": "stderr",
     "output_type": "stream",
     "text": [
      "C:\\Users\\manca\\AppData\\Local\\Temp\\ipykernel_12404\\147402823.py:2: UserWarning: Parsing dates in %d/%m/%Y format when dayfirst=False (the default) was specified. Pass `dayfirst=True` or specify a format to silence this warning.\n",
      "  plans_df[date_cols] = plans_df[date_cols].apply(pd.to_datetime)\n",
      "C:\\Users\\manca\\AppData\\Local\\Temp\\ipykernel_12404\\147402823.py:2: UserWarning: Parsing dates in %d/%m/%Y format when dayfirst=False (the default) was specified. Pass `dayfirst=True` or specify a format to silence this warning.\n",
      "  plans_df[date_cols] = plans_df[date_cols].apply(pd.to_datetime)\n",
      "C:\\Users\\manca\\AppData\\Local\\Temp\\ipykernel_12404\\147402823.py:2: UserWarning: Parsing dates in %d/%m/%Y format when dayfirst=False (the default) was specified. Pass `dayfirst=True` or specify a format to silence this warning.\n",
      "  plans_df[date_cols] = plans_df[date_cols].apply(pd.to_datetime)\n",
      "C:\\Users\\manca\\AppData\\Local\\Temp\\ipykernel_12404\\147402823.py:2: UserWarning: Parsing dates in %d/%m/%Y format when dayfirst=False (the default) was specified. Pass `dayfirst=True` or specify a format to silence this warning.\n",
      "  plans_df[date_cols] = plans_df[date_cols].apply(pd.to_datetime)\n"
     ]
    }
   ],
   "source": [
    "date_cols = ['start_date', 'last_charge_date', 'next_charge_date', 'withdrawal_date']\n",
    "plans_df[date_cols] = plans_df[date_cols].apply(pd.to_datetime)"
   ]
  },
  {
   "cell_type": "code",
   "execution_count": 12,
   "id": "1c783a9e",
   "metadata": {},
   "outputs": [],
   "source": [
    "#  Filling the  missing with a placeholder (e.g., January 1, 2000)\n",
    "plans_df[date_cols] = plans_df[date_cols].fillna(pd.Timestamp('2000-01-01'))"
   ]
  },
  {
   "cell_type": "code",
   "execution_count": 13,
   "id": "840664c3",
   "metadata": {},
   "outputs": [],
   "source": [
    "plans_df['debit_card'] = plans_df['debit_card'].fillna('N/A')\n"
   ]
  },
  {
   "cell_type": "code",
   "execution_count": 14,
   "id": "aa8aa295",
   "metadata": {},
   "outputs": [
    {
     "data": {
      "text/plain": [
       "id                       0\n",
       "name                     0\n",
       "description              0\n",
       "amount                   0\n",
       "start_date               0\n",
       "last_charge_date         0\n",
       "next_charge_date         0\n",
       "created_on               0\n",
       "frequency_id             0\n",
       "owner_id                 0\n",
       "status_id                0\n",
       "interest_rate            0\n",
       "withdrawal_date          0\n",
       "default_plan             0\n",
       "plan_type_id             0\n",
       "goal                     0\n",
       "locked                   0\n",
       "next_returns_date        0\n",
       "last_returns_date        0\n",
       "cowry_amount             0\n",
       "debit_card               0\n",
       "is_archived              0\n",
       "is_deleted               0\n",
       "is_goal_achieved         0\n",
       "is_a_goal                0\n",
       "is_interest_free         0\n",
       "is_deleted_from_group    0\n",
       "is_a_fund                0\n",
       "is_a_wallet              0\n",
       "currency_is_dollars      0\n",
       "is_auto_rollover         0\n",
       "is_vendor_plan           0\n",
       "plan_source              0\n",
       "is_donation_plan         0\n",
       "charge_payment_fee       0\n",
       "donation_is_approved     0\n",
       "is_emergency_plan        0\n",
       "is_personal_challenge    0\n",
       "currency_id              0\n",
       "is_a_usd_index           0\n",
       "open_savings_plan        0\n",
       "new_cycle                0\n",
       "is_bloom_note            0\n",
       "is_managed_portfolio     0\n",
       "is_fixed_investment      0\n",
       "is_regular_savings       0\n",
       "dtype: int64"
      ]
     },
     "execution_count": 14,
     "metadata": {},
     "output_type": "execute_result"
    }
   ],
   "source": [
    "plans_df.isnull().sum()"
   ]
  },
  {
   "cell_type": "markdown",
   "id": "80bf58b3",
   "metadata": {},
   "source": [
    "#### Savings"
   ]
  },
  {
   "cell_type": "code",
   "execution_count": 15,
   "id": "0bb96a8e",
   "metadata": {},
   "outputs": [
    {
     "data": {
      "text/plain": [
       "id                                    0\n",
       "savings_id                          225\n",
       "maturity_start_date                   0\n",
       "maturity_end_date                     0\n",
       "amount                                0\n",
       "confirmed_amount                      0\n",
       "deduction_amount                      0\n",
       "new_balance                           0\n",
       "transaction_date                      0\n",
       "transaction_reference                 0\n",
       "transaction_status                    0\n",
       "verification_call_amount         122113\n",
       "verification_call_message        121059\n",
       "verification_call_code           122114\n",
       "verification_transaction_date    124076\n",
       "book_returns                          0\n",
       "available_returns                     0\n",
       "returns_on_hold                       0\n",
       "last_returns_date                     0\n",
       "next_returns_date                     0\n",
       "created_on                            0\n",
       "card_billed_id                     5144\n",
       "channel_id                            0\n",
       "charging_method_id                    0\n",
       "owner_id                              0\n",
       "plan_id                               0\n",
       "transaction_type_id                   0\n",
       "verification_status_id                0\n",
       "gateway_response_message           3464\n",
       "fee_in_kobo                           0\n",
       "donor_id                         163655\n",
       "is_anonymous                          0\n",
       "description                      158777\n",
       "payment_gateway                    9618\n",
       "source_bank_account              163035\n",
       "currency                          15559\n",
       "fee_in_cents                          0\n",
       "dtype: int64"
      ]
     },
     "execution_count": 15,
     "metadata": {},
     "output_type": "execute_result"
    }
   ],
   "source": [
    "df_1.isnull().sum()"
   ]
  },
  {
   "cell_type": "code",
   "execution_count": 16,
   "id": "83144c74",
   "metadata": {},
   "outputs": [
    {
     "data": {
      "text/plain": [
       "id                              0\n",
       "savings_id                    225\n",
       "maturity_start_date             0\n",
       "maturity_end_date               0\n",
       "amount                          0\n",
       "confirmed_amount                0\n",
       "deduction_amount                0\n",
       "new_balance                     0\n",
       "transaction_date                0\n",
       "transaction_reference           0\n",
       "transaction_status              0\n",
       "book_returns                    0\n",
       "available_returns               0\n",
       "returns_on_hold                 0\n",
       "last_returns_date               0\n",
       "next_returns_date               0\n",
       "created_on                      0\n",
       "card_billed_id               5144\n",
       "channel_id                      0\n",
       "charging_method_id              0\n",
       "owner_id                        0\n",
       "plan_id                         0\n",
       "transaction_type_id             0\n",
       "verification_status_id          0\n",
       "gateway_response_message     3464\n",
       "fee_in_kobo                     0\n",
       "is_anonymous                    0\n",
       "payment_gateway              9618\n",
       "currency                    15559\n",
       "fee_in_cents                    0\n",
       "dtype: int64"
      ]
     },
     "execution_count": 16,
     "metadata": {},
     "output_type": "execute_result"
    }
   ],
   "source": [
    "# Drop columns with too many nulls\n",
    "cols_to_drop = [\n",
    "    'verification_call_amount','verification_call_message','verification_call_code','verification_transaction_date',\n",
    "      'donor_id','description','source_bank_account'  \n",
    "]\n",
    "saving_df = df_1.drop(columns=cols_to_drop)\n",
    "\n",
    "\n",
    "\n",
    "#  checking how many nulls remain\n",
    "saving_df.isnull().sum()"
   ]
  },
  {
   "cell_type": "code",
   "execution_count": 17,
   "id": "99972da2",
   "metadata": {},
   "outputs": [
    {
     "data": {
      "text/plain": [
       "0"
      ]
     },
     "execution_count": 17,
     "metadata": {},
     "output_type": "execute_result"
    }
   ],
   "source": [
    "saving_df.duplicated().sum()"
   ]
  },
  {
   "cell_type": "markdown",
   "id": "dbab39be",
   "metadata": {},
   "source": [
    "### filling in the missing value "
   ]
  },
  {
   "cell_type": "code",
   "execution_count": 18,
   "id": "d1d141db",
   "metadata": {},
   "outputs": [],
   "source": [
    "# Filling missing 'saving_id' - assuming it's a categorical ID, use placeholder\n",
    "saving_df['savings_id'] = saving_df['savings_id'].fillna('unknown_savings_id')\n",
    "\n",
    "# Fill missing 'card_billed_id' - also categorical ID\n",
    "saving_df['card_billed_id'] = saving_df['card_billed_id'].fillna('no_card')\n",
    "\n",
    "# Fill missing 'gateway_response_message' - text message, fill with \"No response\"\n",
    "saving_df['gateway_response_message'] = saving_df['gateway_response_message'].fillna('No response')\n",
    "\n",
    "# Fill missing 'payment_gateway' - fill with 'Unknown' or most frequent\n",
    "saving_df['payment_gateway'] = saving_df['payment_gateway'].fillna('Unknown')\n",
    "\n",
    "# Fill missing 'currency' - if most entries are the same (e.g., 'NGN'), fill with mode\n",
    "currency_mode = saving_df['currency'].mode()[0]\n",
    "saving_df['currency'] = saving_df['currency'].fillna(currency_mode)\n"
   ]
  },
  {
   "cell_type": "code",
   "execution_count": 19,
   "id": "4f240a7b",
   "metadata": {},
   "outputs": [
    {
     "data": {
      "text/plain": [
       "id                          0\n",
       "savings_id                  0\n",
       "maturity_start_date         0\n",
       "maturity_end_date           0\n",
       "amount                      0\n",
       "confirmed_amount            0\n",
       "deduction_amount            0\n",
       "new_balance                 0\n",
       "transaction_date            0\n",
       "transaction_reference       0\n",
       "transaction_status          0\n",
       "book_returns                0\n",
       "available_returns           0\n",
       "returns_on_hold             0\n",
       "last_returns_date           0\n",
       "next_returns_date           0\n",
       "created_on                  0\n",
       "card_billed_id              0\n",
       "channel_id                  0\n",
       "charging_method_id          0\n",
       "owner_id                    0\n",
       "plan_id                     0\n",
       "transaction_type_id         0\n",
       "verification_status_id      0\n",
       "gateway_response_message    0\n",
       "fee_in_kobo                 0\n",
       "is_anonymous                0\n",
       "payment_gateway             0\n",
       "currency                    0\n",
       "fee_in_cents                0\n",
       "dtype: int64"
      ]
     },
     "execution_count": 19,
     "metadata": {},
     "output_type": "execute_result"
    }
   ],
   "source": [
    "saving_df.isnull().sum()"
   ]
  },
  {
   "cell_type": "markdown",
   "id": "887ca970",
   "metadata": {},
   "source": [
    "#### users_customers"
   ]
  },
  {
   "cell_type": "code",
   "execution_count": 20,
   "id": "7644c21c",
   "metadata": {},
   "outputs": [
    {
     "data": {
      "text/plain": [
       "password                         13\n",
       "last_login                       22\n",
       "is_superuser                      0\n",
       "id                                0\n",
       "email                             0\n",
       "name                           1867\n",
       "first_name                       68\n",
       "last_name                        68\n",
       "phone_number                    157\n",
       "date_of_birth                  1016\n",
       "is_staff                          0\n",
       "is_active                         0\n",
       "date_joined                       0\n",
       "is_admin                          0\n",
       "username                          4\n",
       "created_on                        0\n",
       "gender_id                      1134\n",
       "invite_code                    1866\n",
       "avatar_firebase_reference      1773\n",
       "avatar_local_uri               1835\n",
       "avatar_url                     1773\n",
       "risk_apetite                      0\n",
       "current_latitude               1457\n",
       "current_longitude              1457\n",
       "postal_address                 1820\n",
       "pin                             353\n",
       "ambassador_profile_id           400\n",
       "is_ambassador                     0\n",
       "account_source                    0\n",
       "is_vendor_account                 0\n",
       "is_business_account               0\n",
       "is_account_deleted                0\n",
       "vendor_code                       0\n",
       "is_halal_account                  0\n",
       "address_city                   1827\n",
       "address_country                1855\n",
       "address_state                  1839\n",
       "address_street                 1827\n",
       "monthly_expense                   0\n",
       "monthly_salary                    0\n",
       "is_account_disabled               0\n",
       "authy_id                       1837\n",
       "fraud_score                       0\n",
       "account_campaign               1835\n",
       "account_medium                 1529\n",
       "last_password_change           1824\n",
       "last_pin_change                 390\n",
       "is_private                        0\n",
       "disabled_at                    1847\n",
       "is_disabled_by_owner              0\n",
       "is_account_deleted_by_owner       0\n",
       "proposed_deletion_date         1864\n",
       "reason_for_deletion            1858\n",
       "enabled_at                     1852\n",
       "signup_device                   554\n",
       "proposed_enablement_date       1867\n",
       "tier_id                        1115\n",
       "dtype: int64"
      ]
     },
     "execution_count": 20,
     "metadata": {},
     "output_type": "execute_result"
    }
   ],
   "source": [
    "df_2.isnull().sum()"
   ]
  },
  {
   "cell_type": "code",
   "execution_count": 21,
   "id": "0f6e95f4",
   "metadata": {},
   "outputs": [
    {
     "data": {
      "text/plain": [
       "password                         13\n",
       "last_login                       22\n",
       "is_superuser                      0\n",
       "id                                0\n",
       "email                             0\n",
       "first_name                       68\n",
       "last_name                        68\n",
       "phone_number                    157\n",
       "date_of_birth                  1016\n",
       "is_staff                          0\n",
       "is_active                         0\n",
       "date_joined                       0\n",
       "is_admin                          0\n",
       "username                          4\n",
       "created_on                        0\n",
       "gender_id                      1134\n",
       "risk_apetite                      0\n",
       "current_latitude               1457\n",
       "current_longitude              1457\n",
       "pin                             353\n",
       "ambassador_profile_id           400\n",
       "is_ambassador                     0\n",
       "account_source                    0\n",
       "is_vendor_account                 0\n",
       "is_business_account               0\n",
       "is_account_deleted                0\n",
       "vendor_code                       0\n",
       "is_halal_account                  0\n",
       "monthly_expense                   0\n",
       "monthly_salary                    0\n",
       "is_account_disabled               0\n",
       "fraud_score                       0\n",
       "account_medium                 1529\n",
       "last_pin_change                 390\n",
       "is_private                        0\n",
       "is_disabled_by_owner              0\n",
       "is_account_deleted_by_owner       0\n",
       "tier_id                        1115\n",
       "dtype: int64"
      ]
     },
     "execution_count": 21,
     "metadata": {},
     "output_type": "execute_result"
    }
   ],
   "source": [
    "# Columns to drop\n",
    "columns_to_drop = [\n",
    "    'name', 'invite_code', 'avatar_firebase_reference', 'avatar_local_uri',\n",
    "    'avatar_url', 'postal_address', 'address_city', 'address_country',\n",
    "    'address_state', 'address_street', 'authy_id', 'account_campaign',\n",
    "    'last_password_change', 'disabled_at', 'signup_device',\n",
    "    'proposed_deletion_date', 'proposed_enablement_date', 'reason_for_deletion',\n",
    "    'enabled_at'\n",
    "]\n",
    "\n",
    "# Drop columns\n",
    "users_df = df_2.drop(columns=columns_to_drop)\n",
    "\n",
    "#  Checking the remaining nulls\n",
    "users_df.isnull().sum()"
   ]
  },
  {
   "cell_type": "code",
   "execution_count": 22,
   "id": "1b65ea68",
   "metadata": {},
   "outputs": [
    {
     "data": {
      "text/plain": [
       "0"
      ]
     },
     "execution_count": 22,
     "metadata": {},
     "output_type": "execute_result"
    }
   ],
   "source": [
    "users_df.duplicated().sum()"
   ]
  },
  {
   "cell_type": "code",
   "execution_count": 23,
   "id": "b4b303d7",
   "metadata": {},
   "outputs": [],
   "source": [
    "\n",
    "users_df['password'].fillna('not_set', inplace=True)\n",
    "users_df['last_login'].fillna('Never', inplace=True)\n",
    "users_df['first_name'].fillna('Unknown', inplace=True)\n",
    "users_df['last_name'].fillna('Unknown', inplace=True)\n",
    "users_df['phone_number'].fillna('NoPhone', inplace=True)\n",
    "users_df['date_of_birth'].fillna('1900-01-01', inplace=True)\n",
    "users_df['username'].fillna('anonymous', inplace=True)\n",
    "\n",
    "# Fill gender ID with mode or -1\n",
    "users_df['gender_id'].fillna(users_df['gender_id'].mode()[0], inplace=True)\n",
    "\n",
    "# Geolocation: default to 0.0\n",
    "users_df['current_latitude'].fillna(0.0, inplace=True)\n",
    "users_df['current_longitude'].fillna(0.0, inplace=True)\n",
    "\n",
    "# PIN\n",
    "users_df['pin'].fillna('0000', inplace=True)\n",
    "\n",
    "# Fill ambassador profile\n",
    "users_df['ambassador_profile_id'].fillna('none', inplace=True)\n",
    "\n",
    "# Account medium\n",
    "users_df['account_medium'].fillna('unknown', inplace=True)\n",
    "\n",
    "# Last pin change\n",
    "users_df['last_pin_change'].fillna(users_df['date_joined'], inplace=True)\n",
    "\n",
    "# Tier ID\n",
    "users_df['tier_id'].fillna(-1, inplace=True)\n"
   ]
  },
  {
   "cell_type": "code",
   "execution_count": 24,
   "id": "f7b89e9a",
   "metadata": {},
   "outputs": [
    {
     "data": {
      "text/plain": [
       "password                       0\n",
       "last_login                     0\n",
       "is_superuser                   0\n",
       "id                             0\n",
       "email                          0\n",
       "first_name                     0\n",
       "last_name                      0\n",
       "phone_number                   0\n",
       "date_of_birth                  0\n",
       "is_staff                       0\n",
       "is_active                      0\n",
       "date_joined                    0\n",
       "is_admin                       0\n",
       "username                       0\n",
       "created_on                     0\n",
       "gender_id                      0\n",
       "risk_apetite                   0\n",
       "current_latitude               0\n",
       "current_longitude              0\n",
       "pin                            0\n",
       "ambassador_profile_id          0\n",
       "is_ambassador                  0\n",
       "account_source                 0\n",
       "is_vendor_account              0\n",
       "is_business_account            0\n",
       "is_account_deleted             0\n",
       "vendor_code                    0\n",
       "is_halal_account               0\n",
       "monthly_expense                0\n",
       "monthly_salary                 0\n",
       "is_account_disabled            0\n",
       "fraud_score                    0\n",
       "account_medium                 0\n",
       "last_pin_change                0\n",
       "is_private                     0\n",
       "is_disabled_by_owner           0\n",
       "is_account_deleted_by_owner    0\n",
       "tier_id                        0\n",
       "dtype: int64"
      ]
     },
     "execution_count": 24,
     "metadata": {},
     "output_type": "execute_result"
    }
   ],
   "source": [
    "# Checking for remaining nulls\n",
    "users_df.isna().sum()\n"
   ]
  },
  {
   "cell_type": "markdown",
   "id": "0e16b2e6",
   "metadata": {},
   "source": [
    "#### withdrawals"
   ]
  },
  {
   "cell_type": "code",
   "execution_count": 25,
   "id": "32b831f1",
   "metadata": {},
   "outputs": [
    {
     "data": {
      "text/plain": [
       "id                           0\n",
       "amount                       0\n",
       "amount_withdrawn             0\n",
       "transaction_reference        0\n",
       "transaction_date             0\n",
       "new_balance                  0\n",
       "bank_id                     87\n",
       "owner_id                     0\n",
       "plan_id                      0\n",
       "transaction_channel_id       0\n",
       "transaction_status_id        0\n",
       "transaction_type_id          0\n",
       "fee_in_kobo                  0\n",
       "description               1209\n",
       "gateway                   1113\n",
       "gateway_response          1084\n",
       "session_id                1308\n",
       "currency                     0\n",
       "fee_in_cents                 0\n",
       "payment_id                1308\n",
       "created_on                   0\n",
       "updated_on                   0\n",
       "withdrawal_intent_id       925\n",
       "dtype: int64"
      ]
     },
     "execution_count": 25,
     "metadata": {},
     "output_type": "execute_result"
    }
   ],
   "source": [
    "df_3.isnull().sum()"
   ]
  },
  {
   "cell_type": "code",
   "execution_count": 26,
   "id": "cb35ef32",
   "metadata": {},
   "outputs": [
    {
     "data": {
      "text/plain": [
       "withdrawal_intent_id      925\n",
       "bank_id                    87\n",
       "transaction_status_id       0\n",
       "updated_on                  0\n",
       "created_on                  0\n",
       "fee_in_cents                0\n",
       "currency                    0\n",
       "fee_in_kobo                 0\n",
       "transaction_type_id         0\n",
       "id                          0\n",
       "amount                      0\n",
       "plan_id                     0\n",
       "owner_id                    0\n",
       "new_balance                 0\n",
       "transaction_date            0\n",
       "transaction_reference       0\n",
       "amount_withdrawn            0\n",
       "transaction_channel_id      0\n",
       "dtype: int64"
      ]
     },
     "execution_count": 26,
     "metadata": {},
     "output_type": "execute_result"
    }
   ],
   "source": [
    "# List of columns to drop\n",
    "columns_to_drop = [\n",
    "    'description', 'gateway', 'gateway_response', 'session_id', 'payment_id'\n",
    "]\n",
    "\n",
    "# Drop the columns\n",
    "withdrawals_df = df_3.drop(columns=columns_to_drop)\n",
    "\n",
    "#  Checking the  remaining nulls\n",
    "withdrawals_df.isnull().sum().sort_values(ascending=False)"
   ]
  },
  {
   "cell_type": "code",
   "execution_count": 27,
   "id": "668fd4ec",
   "metadata": {},
   "outputs": [
    {
     "data": {
      "text/plain": [
       "0"
      ]
     },
     "execution_count": 27,
     "metadata": {},
     "output_type": "execute_result"
    }
   ],
   "source": [
    "withdrawals_df.duplicated().sum()"
   ]
  },
  {
   "cell_type": "code",
   "execution_count": 28,
   "id": "98a7c85c",
   "metadata": {},
   "outputs": [
    {
     "name": "stderr",
     "output_type": "stream",
     "text": [
      "C:\\Users\\manca\\AppData\\Local\\Temp\\ipykernel_12404\\3682542839.py:2: FutureWarning: Setting an item of incompatible dtype is deprecated and will raise in a future error of pandas. Value 'none' has dtype incompatible with float64, please explicitly cast to a compatible dtype first.\n",
      "  withdrawals_df['withdrawal_intent_id'].fillna('none', inplace=True)\n"
     ]
    }
   ],
   "source": [
    "#  Filling 'withdrawal_intent_id' with placeholder string\n",
    "withdrawals_df['withdrawal_intent_id'].fillna('none', inplace=True)\n",
    "\n",
    "# Filling 'bank_id' with the most frequent bank_id (mode)\n",
    "withdrawals_df['bank_id'].fillna(withdrawals_df['bank_id'].mode()[0], inplace=True)"
   ]
  },
  {
   "cell_type": "code",
   "execution_count": 29,
   "id": "d91a5e3b",
   "metadata": {},
   "outputs": [
    {
     "data": {
      "text/plain": [
       "id                        0\n",
       "amount                    0\n",
       "amount_withdrawn          0\n",
       "transaction_reference     0\n",
       "transaction_date          0\n",
       "new_balance               0\n",
       "bank_id                   0\n",
       "owner_id                  0\n",
       "plan_id                   0\n",
       "transaction_channel_id    0\n",
       "transaction_status_id     0\n",
       "transaction_type_id       0\n",
       "fee_in_kobo               0\n",
       "currency                  0\n",
       "fee_in_cents              0\n",
       "created_on                0\n",
       "updated_on                0\n",
       "withdrawal_intent_id      0\n",
       "dtype: int64"
      ]
     },
     "execution_count": 29,
     "metadata": {},
     "output_type": "execute_result"
    }
   ],
   "source": [
    "withdrawals_df.isna().sum()\n"
   ]
  },
  {
   "cell_type": "markdown",
   "id": "ec804dc9",
   "metadata": {},
   "source": [
    "### joining only the plan and saving the table for my analysis "
   ]
  },
  {
   "cell_type": "code",
   "execution_count": 30,
   "id": "456c513c",
   "metadata": {},
   "outputs": [
    {
     "name": "stdout",
     "output_type": "stream",
     "text": [
      "(163736, 75)\n"
     ]
    },
    {
     "data": {
      "text/html": [
       "<div>\n",
       "<style scoped>\n",
       "    .dataframe tbody tr th:only-of-type {\n",
       "        vertical-align: middle;\n",
       "    }\n",
       "\n",
       "    .dataframe tbody tr th {\n",
       "        vertical-align: top;\n",
       "    }\n",
       "\n",
       "    .dataframe thead th {\n",
       "        text-align: right;\n",
       "    }\n",
       "</style>\n",
       "<table border=\"1\" class=\"dataframe\">\n",
       "  <thead>\n",
       "    <tr style=\"text-align: right;\">\n",
       "      <th></th>\n",
       "      <th>plan_id</th>\n",
       "      <th>name</th>\n",
       "      <th>description</th>\n",
       "      <th>amount_x</th>\n",
       "      <th>start_date</th>\n",
       "      <th>last_charge_date</th>\n",
       "      <th>next_charge_date</th>\n",
       "      <th>created_on_x</th>\n",
       "      <th>frequency_id</th>\n",
       "      <th>owner_id_x</th>\n",
       "      <th>...</th>\n",
       "      <th>charging_method_id</th>\n",
       "      <th>owner_id_y</th>\n",
       "      <th>transaction_type_id</th>\n",
       "      <th>verification_status_id</th>\n",
       "      <th>gateway_response_message</th>\n",
       "      <th>fee_in_kobo</th>\n",
       "      <th>is_anonymous</th>\n",
       "      <th>payment_gateway</th>\n",
       "      <th>currency</th>\n",
       "      <th>fee_in_cents</th>\n",
       "    </tr>\n",
       "  </thead>\n",
       "  <tbody>\n",
       "    <tr>\n",
       "      <th>0</th>\n",
       "      <td>002b48c9f6ec48fdb586bd019a85aa9a</td>\n",
       "      <td>Emergency</td>\n",
       "      <td>Regular Savings</td>\n",
       "      <td>2045300</td>\n",
       "      <td>2022-04-14</td>\n",
       "      <td>2025-04-17</td>\n",
       "      <td>2025-04-24</td>\n",
       "      <td>14/4/2022 13:02:48</td>\n",
       "      <td>2</td>\n",
       "      <td>5572810f38b543429ffb218ef15243fc</td>\n",
       "      <td>...</td>\n",
       "      <td>1</td>\n",
       "      <td>5572810f38b543429ffb218ef15243fc</td>\n",
       "      <td>1</td>\n",
       "      <td>1</td>\n",
       "      <td>Approved</td>\n",
       "      <td>30679.0</td>\n",
       "      <td>0</td>\n",
       "      <td>paystack</td>\n",
       "      <td>NGN</td>\n",
       "      <td>0.0</td>\n",
       "    </tr>\n",
       "    <tr>\n",
       "      <th>1</th>\n",
       "      <td>002b48c9f6ec48fdb586bd019a85aa9a</td>\n",
       "      <td>Emergency</td>\n",
       "      <td>Regular Savings</td>\n",
       "      <td>2045300</td>\n",
       "      <td>2022-04-14</td>\n",
       "      <td>2025-04-17</td>\n",
       "      <td>2025-04-24</td>\n",
       "      <td>14/4/2022 13:02:48</td>\n",
       "      <td>2</td>\n",
       "      <td>5572810f38b543429ffb218ef15243fc</td>\n",
       "      <td>...</td>\n",
       "      <td>1</td>\n",
       "      <td>5572810f38b543429ffb218ef15243fc</td>\n",
       "      <td>2</td>\n",
       "      <td>1</td>\n",
       "      <td>Approved</td>\n",
       "      <td>30679.0</td>\n",
       "      <td>0</td>\n",
       "      <td>paystack</td>\n",
       "      <td>NGN</td>\n",
       "      <td>0.0</td>\n",
       "    </tr>\n",
       "    <tr>\n",
       "      <th>2</th>\n",
       "      <td>002b48c9f6ec48fdb586bd019a85aa9a</td>\n",
       "      <td>Emergency</td>\n",
       "      <td>Regular Savings</td>\n",
       "      <td>2045300</td>\n",
       "      <td>2022-04-14</td>\n",
       "      <td>2025-04-17</td>\n",
       "      <td>2025-04-24</td>\n",
       "      <td>14/4/2022 13:02:48</td>\n",
       "      <td>2</td>\n",
       "      <td>5572810f38b543429ffb218ef15243fc</td>\n",
       "      <td>...</td>\n",
       "      <td>1</td>\n",
       "      <td>5572810f38b543429ffb218ef15243fc</td>\n",
       "      <td>2</td>\n",
       "      <td>1</td>\n",
       "      <td>Approved</td>\n",
       "      <td>30679.0</td>\n",
       "      <td>0</td>\n",
       "      <td>paystack</td>\n",
       "      <td>NGN</td>\n",
       "      <td>0.0</td>\n",
       "    </tr>\n",
       "    <tr>\n",
       "      <th>3</th>\n",
       "      <td>002b48c9f6ec48fdb586bd019a85aa9a</td>\n",
       "      <td>Emergency</td>\n",
       "      <td>Regular Savings</td>\n",
       "      <td>2045300</td>\n",
       "      <td>2022-04-14</td>\n",
       "      <td>2025-04-17</td>\n",
       "      <td>2025-04-24</td>\n",
       "      <td>14/4/2022 13:02:48</td>\n",
       "      <td>2</td>\n",
       "      <td>5572810f38b543429ffb218ef15243fc</td>\n",
       "      <td>...</td>\n",
       "      <td>1</td>\n",
       "      <td>5572810f38b543429ffb218ef15243fc</td>\n",
       "      <td>2</td>\n",
       "      <td>1</td>\n",
       "      <td>Approved</td>\n",
       "      <td>30679.0</td>\n",
       "      <td>0</td>\n",
       "      <td>paystack</td>\n",
       "      <td>NGN</td>\n",
       "      <td>0.0</td>\n",
       "    </tr>\n",
       "    <tr>\n",
       "      <th>4</th>\n",
       "      <td>002b48c9f6ec48fdb586bd019a85aa9a</td>\n",
       "      <td>Emergency</td>\n",
       "      <td>Regular Savings</td>\n",
       "      <td>2045300</td>\n",
       "      <td>2022-04-14</td>\n",
       "      <td>2025-04-17</td>\n",
       "      <td>2025-04-24</td>\n",
       "      <td>14/4/2022 13:02:48</td>\n",
       "      <td>2</td>\n",
       "      <td>5572810f38b543429ffb218ef15243fc</td>\n",
       "      <td>...</td>\n",
       "      <td>1</td>\n",
       "      <td>5572810f38b543429ffb218ef15243fc</td>\n",
       "      <td>2</td>\n",
       "      <td>1</td>\n",
       "      <td>Approved</td>\n",
       "      <td>30679.0</td>\n",
       "      <td>0</td>\n",
       "      <td>paystack</td>\n",
       "      <td>NGN</td>\n",
       "      <td>0.0</td>\n",
       "    </tr>\n",
       "  </tbody>\n",
       "</table>\n",
       "<p>5 rows × 75 columns</p>\n",
       "</div>"
      ],
      "text/plain": [
       "                            plan_id       name      description  amount_x  \\\n",
       "0  002b48c9f6ec48fdb586bd019a85aa9a  Emergency  Regular Savings   2045300   \n",
       "1  002b48c9f6ec48fdb586bd019a85aa9a  Emergency  Regular Savings   2045300   \n",
       "2  002b48c9f6ec48fdb586bd019a85aa9a  Emergency  Regular Savings   2045300   \n",
       "3  002b48c9f6ec48fdb586bd019a85aa9a  Emergency  Regular Savings   2045300   \n",
       "4  002b48c9f6ec48fdb586bd019a85aa9a  Emergency  Regular Savings   2045300   \n",
       "\n",
       "  start_date last_charge_date next_charge_date        created_on_x  \\\n",
       "0 2022-04-14       2025-04-17       2025-04-24  14/4/2022 13:02:48   \n",
       "1 2022-04-14       2025-04-17       2025-04-24  14/4/2022 13:02:48   \n",
       "2 2022-04-14       2025-04-17       2025-04-24  14/4/2022 13:02:48   \n",
       "3 2022-04-14       2025-04-17       2025-04-24  14/4/2022 13:02:48   \n",
       "4 2022-04-14       2025-04-17       2025-04-24  14/4/2022 13:02:48   \n",
       "\n",
       "   frequency_id                        owner_id_x  ...  charging_method_id  \\\n",
       "0             2  5572810f38b543429ffb218ef15243fc  ...                   1   \n",
       "1             2  5572810f38b543429ffb218ef15243fc  ...                   1   \n",
       "2             2  5572810f38b543429ffb218ef15243fc  ...                   1   \n",
       "3             2  5572810f38b543429ffb218ef15243fc  ...                   1   \n",
       "4             2  5572810f38b543429ffb218ef15243fc  ...                   1   \n",
       "\n",
       "                         owner_id_y transaction_type_id  \\\n",
       "0  5572810f38b543429ffb218ef15243fc                   1   \n",
       "1  5572810f38b543429ffb218ef15243fc                   2   \n",
       "2  5572810f38b543429ffb218ef15243fc                   2   \n",
       "3  5572810f38b543429ffb218ef15243fc                   2   \n",
       "4  5572810f38b543429ffb218ef15243fc                   2   \n",
       "\n",
       "   verification_status_id  gateway_response_message  fee_in_kobo  \\\n",
       "0                       1                  Approved      30679.0   \n",
       "1                       1                  Approved      30679.0   \n",
       "2                       1                  Approved      30679.0   \n",
       "3                       1                  Approved      30679.0   \n",
       "4                       1                  Approved      30679.0   \n",
       "\n",
       "   is_anonymous payment_gateway currency  fee_in_cents  \n",
       "0             0        paystack      NGN           0.0  \n",
       "1             0        paystack      NGN           0.0  \n",
       "2             0        paystack      NGN           0.0  \n",
       "3             0        paystack      NGN           0.0  \n",
       "4             0        paystack      NGN           0.0  \n",
       "\n",
       "[5 rows x 75 columns]"
      ]
     },
     "execution_count": 30,
     "metadata": {},
     "output_type": "execute_result"
    }
   ],
   "source": [
    "# Ensure the plan DataFrame has 'plan_id' as the column name\n",
    "# (if not already renamed)\n",
    "plans_df = plans_df.rename(columns={\"id\": \"plan_id\"})\n",
    "\n",
    "# Merge on plan_id only\n",
    "merged_df = plans_df.merge(saving_df, on=\"plan_id\", how=\"inner\")  # or use 'left'/'right'/'outer' as needed\n",
    "\n",
    "# Show result\n",
    "print(merged_df.shape)\n",
    "merged_df.head()\n"
   ]
  },
  {
   "cell_type": "code",
   "execution_count": 31,
   "id": "d5971807",
   "metadata": {},
   "outputs": [
    {
     "name": "stdout",
     "output_type": "stream",
     "text": [
      "<class 'pandas.core.frame.DataFrame'>\n",
      "RangeIndex: 163736 entries, 0 to 163735\n",
      "Data columns (total 75 columns):\n",
      " #   Column                    Non-Null Count   Dtype         \n",
      "---  ------                    --------------   -----         \n",
      " 0   plan_id                   163736 non-null  object        \n",
      " 1   name                      163736 non-null  object        \n",
      " 2   description               163736 non-null  object        \n",
      " 3   amount_x                  163736 non-null  int64         \n",
      " 4   start_date                163736 non-null  datetime64[ns]\n",
      " 5   last_charge_date          163736 non-null  datetime64[ns]\n",
      " 6   next_charge_date          163736 non-null  datetime64[ns]\n",
      " 7   created_on_x              163736 non-null  object        \n",
      " 8   frequency_id              163736 non-null  int64         \n",
      " 9   owner_id_x                163736 non-null  object        \n",
      " 10  status_id                 163736 non-null  int64         \n",
      " 11  interest_rate             163736 non-null  float64       \n",
      " 12  withdrawal_date           163736 non-null  datetime64[ns]\n",
      " 13  default_plan              163736 non-null  int64         \n",
      " 14  plan_type_id              163736 non-null  int64         \n",
      " 15  goal                      163736 non-null  float64       \n",
      " 16  locked                    163736 non-null  int64         \n",
      " 17  next_returns_date_x       163736 non-null  object        \n",
      " 18  last_returns_date_x       163736 non-null  object        \n",
      " 19  cowry_amount              163736 non-null  int64         \n",
      " 20  debit_card                163736 non-null  object        \n",
      " 21  is_archived               163736 non-null  int64         \n",
      " 22  is_deleted                163736 non-null  int64         \n",
      " 23  is_goal_achieved          163736 non-null  int64         \n",
      " 24  is_a_goal                 163736 non-null  int64         \n",
      " 25  is_interest_free          163736 non-null  int64         \n",
      " 26  is_deleted_from_group     163736 non-null  int64         \n",
      " 27  is_a_fund                 163736 non-null  int64         \n",
      " 28  is_a_wallet               163736 non-null  int64         \n",
      " 29  currency_is_dollars       163736 non-null  int64         \n",
      " 30  is_auto_rollover          163736 non-null  int64         \n",
      " 31  is_vendor_plan            163736 non-null  int64         \n",
      " 32  plan_source               163736 non-null  object        \n",
      " 33  is_donation_plan          163736 non-null  int64         \n",
      " 34  charge_payment_fee        163736 non-null  int64         \n",
      " 35  donation_is_approved      163736 non-null  int64         \n",
      " 36  is_emergency_plan         163736 non-null  int64         \n",
      " 37  is_personal_challenge     163736 non-null  int64         \n",
      " 38  currency_id               163736 non-null  int64         \n",
      " 39  is_a_usd_index            163736 non-null  int64         \n",
      " 40  open_savings_plan         163736 non-null  int64         \n",
      " 41  new_cycle                 163736 non-null  int64         \n",
      " 42  is_bloom_note             163736 non-null  int64         \n",
      " 43  is_managed_portfolio      163736 non-null  int64         \n",
      " 44  is_fixed_investment       163736 non-null  int64         \n",
      " 45  is_regular_savings        163736 non-null  int64         \n",
      " 46  id                        163736 non-null  int64         \n",
      " 47  savings_id                163736 non-null  object        \n",
      " 48  maturity_start_date       163736 non-null  object        \n",
      " 49  maturity_end_date         163736 non-null  object        \n",
      " 50  amount_y                  163736 non-null  float64       \n",
      " 51  confirmed_amount          163736 non-null  float64       \n",
      " 52  deduction_amount          163736 non-null  float64       \n",
      " 53  new_balance               163736 non-null  float64       \n",
      " 54  transaction_date          163736 non-null  object        \n",
      " 55  transaction_reference     163736 non-null  object        \n",
      " 56  transaction_status        163736 non-null  object        \n",
      " 57  book_returns              163736 non-null  float64       \n",
      " 58  available_returns         163736 non-null  float64       \n",
      " 59  returns_on_hold           163736 non-null  int64         \n",
      " 60  last_returns_date_y       163736 non-null  object        \n",
      " 61  next_returns_date_y       163736 non-null  object        \n",
      " 62  created_on_y              163736 non-null  object        \n",
      " 63  card_billed_id            163736 non-null  object        \n",
      " 64  channel_id                163736 non-null  int64         \n",
      " 65  charging_method_id        163736 non-null  int64         \n",
      " 66  owner_id_y                163736 non-null  object        \n",
      " 67  transaction_type_id       163736 non-null  int64         \n",
      " 68  verification_status_id    163736 non-null  int64         \n",
      " 69  gateway_response_message  163736 non-null  object        \n",
      " 70  fee_in_kobo               163736 non-null  float64       \n",
      " 71  is_anonymous              163736 non-null  int64         \n",
      " 72  payment_gateway           163736 non-null  object        \n",
      " 73  currency                  163736 non-null  object        \n",
      " 74  fee_in_cents              163736 non-null  float64       \n",
      "dtypes: datetime64[ns](4), float64(10), int64(38), object(23)\n",
      "memory usage: 93.7+ MB\n"
     ]
    }
   ],
   "source": [
    "merged_df.info()"
   ]
  },
  {
   "cell_type": "markdown",
   "id": "2fb11512",
   "metadata": {},
   "source": []
  },
  {
   "cell_type": "code",
   "execution_count": 32,
   "id": "080f0cda",
   "metadata": {},
   "outputs": [],
   "source": [
    "merged_df_1 = withdrawals_df.merge(users_df, left_on='owner_id', right_on='id', how='inner')"
   ]
  },
  {
   "cell_type": "code",
   "execution_count": 33,
   "id": "4ee03ca4",
   "metadata": {},
   "outputs": [
    {
     "data": {
      "text/html": [
       "<div>\n",
       "<style scoped>\n",
       "    .dataframe tbody tr th:only-of-type {\n",
       "        vertical-align: middle;\n",
       "    }\n",
       "\n",
       "    .dataframe tbody tr th {\n",
       "        vertical-align: top;\n",
       "    }\n",
       "\n",
       "    .dataframe thead th {\n",
       "        text-align: right;\n",
       "    }\n",
       "</style>\n",
       "<table border=\"1\" class=\"dataframe\">\n",
       "  <thead>\n",
       "    <tr style=\"text-align: right;\">\n",
       "      <th></th>\n",
       "      <th>id_x</th>\n",
       "      <th>amount</th>\n",
       "      <th>amount_withdrawn</th>\n",
       "      <th>transaction_reference</th>\n",
       "      <th>transaction_date</th>\n",
       "      <th>new_balance</th>\n",
       "      <th>bank_id</th>\n",
       "      <th>owner_id</th>\n",
       "      <th>plan_id</th>\n",
       "      <th>transaction_channel_id</th>\n",
       "      <th>...</th>\n",
       "      <th>monthly_expense</th>\n",
       "      <th>monthly_salary</th>\n",
       "      <th>is_account_disabled</th>\n",
       "      <th>fraud_score</th>\n",
       "      <th>account_medium</th>\n",
       "      <th>last_pin_change</th>\n",
       "      <th>is_private</th>\n",
       "      <th>is_disabled_by_owner</th>\n",
       "      <th>is_account_deleted_by_owner</th>\n",
       "      <th>tier_id</th>\n",
       "    </tr>\n",
       "  </thead>\n",
       "  <tbody>\n",
       "    <tr>\n",
       "      <th>0</th>\n",
       "      <td>1</td>\n",
       "      <td>10000.0</td>\n",
       "      <td>10000.0</td>\n",
       "      <td>W52366</td>\n",
       "      <td>31/8/2016 21:23:08</td>\n",
       "      <td>4.383562e+00</td>\n",
       "      <td>1.0</td>\n",
       "      <td>0257625a02344b239b41e1cbe60ef080</td>\n",
       "      <td>671e6e5caf0f463b80123c839264de8c</td>\n",
       "      <td>1</td>\n",
       "      <td>...</td>\n",
       "      <td>0</td>\n",
       "      <td>0</td>\n",
       "      <td>0</td>\n",
       "      <td>10</td>\n",
       "      <td>unknown</td>\n",
       "      <td>27/8/2016 04:35:23</td>\n",
       "      <td>0</td>\n",
       "      <td>0</td>\n",
       "      <td>0</td>\n",
       "      <td>3.0</td>\n",
       "    </tr>\n",
       "    <tr>\n",
       "      <th>1</th>\n",
       "      <td>2</td>\n",
       "      <td>1500000.0</td>\n",
       "      <td>0.0</td>\n",
       "      <td>W56184</td>\n",
       "      <td>3/9/2016 16:40:18</td>\n",
       "      <td>4.001808e+04</td>\n",
       "      <td>1.0</td>\n",
       "      <td>0257625a02344b239b41e1cbe60ef080</td>\n",
       "      <td>671e6e5caf0f463b80123c839264de8c</td>\n",
       "      <td>1</td>\n",
       "      <td>...</td>\n",
       "      <td>0</td>\n",
       "      <td>0</td>\n",
       "      <td>0</td>\n",
       "      <td>10</td>\n",
       "      <td>unknown</td>\n",
       "      <td>27/8/2016 04:35:23</td>\n",
       "      <td>0</td>\n",
       "      <td>0</td>\n",
       "      <td>0</td>\n",
       "      <td>3.0</td>\n",
       "    </tr>\n",
       "    <tr>\n",
       "      <th>2</th>\n",
       "      <td>3</td>\n",
       "      <td>1300000.0</td>\n",
       "      <td>0.0</td>\n",
       "      <td>W56739</td>\n",
       "      <td>3/9/2016 16:42:25</td>\n",
       "      <td>4.001808e+04</td>\n",
       "      <td>1.0</td>\n",
       "      <td>0257625a02344b239b41e1cbe60ef080</td>\n",
       "      <td>671e6e5caf0f463b80123c839264de8c</td>\n",
       "      <td>1</td>\n",
       "      <td>...</td>\n",
       "      <td>0</td>\n",
       "      <td>0</td>\n",
       "      <td>0</td>\n",
       "      <td>10</td>\n",
       "      <td>unknown</td>\n",
       "      <td>27/8/2016 04:35:23</td>\n",
       "      <td>0</td>\n",
       "      <td>0</td>\n",
       "      <td>0</td>\n",
       "      <td>3.0</td>\n",
       "    </tr>\n",
       "    <tr>\n",
       "      <th>3</th>\n",
       "      <td>4</td>\n",
       "      <td>10000.0</td>\n",
       "      <td>10000.0</td>\n",
       "      <td>W61100</td>\n",
       "      <td>11/12/2016 10:09:20</td>\n",
       "      <td>3.296759e+07</td>\n",
       "      <td>10.0</td>\n",
       "      <td>0257625a02344b239b41e1cbe60ef080</td>\n",
       "      <td>7f960e5b3743434882ee8ddcedb9aecb</td>\n",
       "      <td>1</td>\n",
       "      <td>...</td>\n",
       "      <td>0</td>\n",
       "      <td>0</td>\n",
       "      <td>0</td>\n",
       "      <td>10</td>\n",
       "      <td>unknown</td>\n",
       "      <td>27/8/2016 04:35:23</td>\n",
       "      <td>0</td>\n",
       "      <td>0</td>\n",
       "      <td>0</td>\n",
       "      <td>3.0</td>\n",
       "    </tr>\n",
       "    <tr>\n",
       "      <th>4</th>\n",
       "      <td>5</td>\n",
       "      <td>12000.0</td>\n",
       "      <td>12000.0</td>\n",
       "      <td>W72359</td>\n",
       "      <td>11/12/2016 10:36:51</td>\n",
       "      <td>3.295559e+07</td>\n",
       "      <td>10.0</td>\n",
       "      <td>0257625a02344b239b41e1cbe60ef080</td>\n",
       "      <td>7f960e5b3743434882ee8ddcedb9aecb</td>\n",
       "      <td>1</td>\n",
       "      <td>...</td>\n",
       "      <td>0</td>\n",
       "      <td>0</td>\n",
       "      <td>0</td>\n",
       "      <td>10</td>\n",
       "      <td>unknown</td>\n",
       "      <td>27/8/2016 04:35:23</td>\n",
       "      <td>0</td>\n",
       "      <td>0</td>\n",
       "      <td>0</td>\n",
       "      <td>3.0</td>\n",
       "    </tr>\n",
       "  </tbody>\n",
       "</table>\n",
       "<p>5 rows × 56 columns</p>\n",
       "</div>"
      ],
      "text/plain": [
       "   id_x     amount  amount_withdrawn transaction_reference  \\\n",
       "0     1    10000.0           10000.0                W52366   \n",
       "1     2  1500000.0               0.0                W56184   \n",
       "2     3  1300000.0               0.0                W56739   \n",
       "3     4    10000.0           10000.0                W61100   \n",
       "4     5    12000.0           12000.0                W72359   \n",
       "\n",
       "      transaction_date   new_balance  bank_id  \\\n",
       "0   31/8/2016 21:23:08  4.383562e+00      1.0   \n",
       "1    3/9/2016 16:40:18  4.001808e+04      1.0   \n",
       "2    3/9/2016 16:42:25  4.001808e+04      1.0   \n",
       "3  11/12/2016 10:09:20  3.296759e+07     10.0   \n",
       "4  11/12/2016 10:36:51  3.295559e+07     10.0   \n",
       "\n",
       "                           owner_id                           plan_id  \\\n",
       "0  0257625a02344b239b41e1cbe60ef080  671e6e5caf0f463b80123c839264de8c   \n",
       "1  0257625a02344b239b41e1cbe60ef080  671e6e5caf0f463b80123c839264de8c   \n",
       "2  0257625a02344b239b41e1cbe60ef080  671e6e5caf0f463b80123c839264de8c   \n",
       "3  0257625a02344b239b41e1cbe60ef080  7f960e5b3743434882ee8ddcedb9aecb   \n",
       "4  0257625a02344b239b41e1cbe60ef080  7f960e5b3743434882ee8ddcedb9aecb   \n",
       "\n",
       "   transaction_channel_id  ...  monthly_expense  monthly_salary  \\\n",
       "0                       1  ...                0               0   \n",
       "1                       1  ...                0               0   \n",
       "2                       1  ...                0               0   \n",
       "3                       1  ...                0               0   \n",
       "4                       1  ...                0               0   \n",
       "\n",
       "   is_account_disabled fraud_score  account_medium     last_pin_change  \\\n",
       "0                    0          10         unknown  27/8/2016 04:35:23   \n",
       "1                    0          10         unknown  27/8/2016 04:35:23   \n",
       "2                    0          10         unknown  27/8/2016 04:35:23   \n",
       "3                    0          10         unknown  27/8/2016 04:35:23   \n",
       "4                    0          10         unknown  27/8/2016 04:35:23   \n",
       "\n",
       "  is_private is_disabled_by_owner is_account_deleted_by_owner tier_id  \n",
       "0          0                    0                           0     3.0  \n",
       "1          0                    0                           0     3.0  \n",
       "2          0                    0                           0     3.0  \n",
       "3          0                    0                           0     3.0  \n",
       "4          0                    0                           0     3.0  \n",
       "\n",
       "[5 rows x 56 columns]"
      ]
     },
     "execution_count": 33,
     "metadata": {},
     "output_type": "execute_result"
    }
   ],
   "source": [
    "merged_df_1.head(5)"
   ]
  },
  {
   "cell_type": "code",
   "execution_count": 34,
   "id": "3cb5cb91",
   "metadata": {},
   "outputs": [
    {
     "name": "stdout",
     "output_type": "stream",
     "text": [
      "<class 'pandas.core.frame.DataFrame'>\n",
      "RangeIndex: 1308 entries, 0 to 1307\n",
      "Data columns (total 56 columns):\n",
      " #   Column                       Non-Null Count  Dtype  \n",
      "---  ------                       --------------  -----  \n",
      " 0   id_x                         1308 non-null   int64  \n",
      " 1   amount                       1308 non-null   float64\n",
      " 2   amount_withdrawn             1308 non-null   float64\n",
      " 3   transaction_reference        1308 non-null   object \n",
      " 4   transaction_date             1308 non-null   object \n",
      " 5   new_balance                  1308 non-null   float64\n",
      " 6   bank_id                      1308 non-null   float64\n",
      " 7   owner_id                     1308 non-null   object \n",
      " 8   plan_id                      1308 non-null   object \n",
      " 9   transaction_channel_id       1308 non-null   int64  \n",
      " 10  transaction_status_id        1308 non-null   int64  \n",
      " 11  transaction_type_id          1308 non-null   int64  \n",
      " 12  fee_in_kobo                  1308 non-null   int64  \n",
      " 13  currency                     1308 non-null   object \n",
      " 14  fee_in_cents                 1308 non-null   float64\n",
      " 15  created_on_x                 1308 non-null   object \n",
      " 16  updated_on                   1308 non-null   object \n",
      " 17  withdrawal_intent_id         1308 non-null   object \n",
      " 18  password                     1308 non-null   object \n",
      " 19  last_login                   1308 non-null   object \n",
      " 20  is_superuser                 1308 non-null   int64  \n",
      " 21  id_y                         1308 non-null   object \n",
      " 22  email                        1308 non-null   object \n",
      " 23  first_name                   1308 non-null   object \n",
      " 24  last_name                    1308 non-null   object \n",
      " 25  phone_number                 1308 non-null   object \n",
      " 26  date_of_birth                1308 non-null   object \n",
      " 27  is_staff                     1308 non-null   int64  \n",
      " 28  is_active                    1308 non-null   int64  \n",
      " 29  date_joined                  1308 non-null   object \n",
      " 30  is_admin                     1308 non-null   int64  \n",
      " 31  username                     1308 non-null   object \n",
      " 32  created_on_y                 1308 non-null   object \n",
      " 33  gender_id                    1308 non-null   float64\n",
      " 34  risk_apetite                 1308 non-null   int64  \n",
      " 35  current_latitude             1308 non-null   float64\n",
      " 36  current_longitude            1308 non-null   float64\n",
      " 37  pin                          1308 non-null   object \n",
      " 38  ambassador_profile_id        1308 non-null   object \n",
      " 39  is_ambassador                1308 non-null   int64  \n",
      " 40  account_source               1308 non-null   object \n",
      " 41  is_vendor_account            1308 non-null   int64  \n",
      " 42  is_business_account          1308 non-null   int64  \n",
      " 43  is_account_deleted           1308 non-null   int64  \n",
      " 44  vendor_code                  1308 non-null   object \n",
      " 45  is_halal_account             1308 non-null   int64  \n",
      " 46  monthly_expense              1308 non-null   int64  \n",
      " 47  monthly_salary               1308 non-null   int64  \n",
      " 48  is_account_disabled          1308 non-null   int64  \n",
      " 49  fraud_score                  1308 non-null   int64  \n",
      " 50  account_medium               1308 non-null   object \n",
      " 51  last_pin_change              1308 non-null   object \n",
      " 52  is_private                   1308 non-null   int64  \n",
      " 53  is_disabled_by_owner         1308 non-null   int64  \n",
      " 54  is_account_deleted_by_owner  1308 non-null   int64  \n",
      " 55  tier_id                      1308 non-null   float64\n",
      "dtypes: float64(9), int64(22), object(25)\n",
      "memory usage: 572.4+ KB\n"
     ]
    }
   ],
   "source": [
    "merged_df_1.info()"
   ]
  },
  {
   "cell_type": "markdown",
   "id": "29319751",
   "metadata": {},
   "source": [
    "#### Analysis "
   ]
  },
  {
   "cell_type": "code",
   "execution_count": 35,
   "id": "1ebc35e3",
   "metadata": {},
   "outputs": [
    {
     "data": {
      "text/plain": [
       "plan_id            0\n",
       "name               0\n",
       "description        0\n",
       "amount_x           0\n",
       "start_date         0\n",
       "                  ..\n",
       "fee_in_kobo        0\n",
       "is_anonymous       0\n",
       "payment_gateway    0\n",
       "currency           0\n",
       "fee_in_cents       0\n",
       "Length: 75, dtype: int64"
      ]
     },
     "execution_count": 35,
     "metadata": {},
     "output_type": "execute_result"
    }
   ],
   "source": [
    "merged_df.isnull().sum()"
   ]
  },
  {
   "cell_type": "code",
   "execution_count": 36,
   "id": "5562eff2",
   "metadata": {},
   "outputs": [
    {
     "data": {
      "text/plain": [
       "0"
      ]
     },
     "execution_count": 36,
     "metadata": {},
     "output_type": "execute_result"
    }
   ],
   "source": [
    "merged_df.duplicated().sum()"
   ]
  },
  {
   "cell_type": "markdown",
   "id": "33552cd3",
   "metadata": {},
   "source": [
    "Analytics question "
   ]
  },
  {
   "cell_type": "markdown",
   "id": "662725f6",
   "metadata": {},
   "source": [
    "What is the total amount transacted overall and year?"
   ]
  },
  {
   "cell_type": "code",
   "execution_count": 37,
   "id": "0668b30f",
   "metadata": {},
   "outputs": [
    {
     "name": "stdout",
     "output_type": "stream",
     "text": [
      "Index(['plan_id', 'name', 'description', 'amount_x', 'start_date',\n",
      "       'last_charge_date', 'next_charge_date', 'created_on_x', 'frequency_id',\n",
      "       'owner_id_x', 'status_id', 'interest_rate', 'withdrawal_date',\n",
      "       'default_plan', 'plan_type_id', 'goal', 'locked', 'next_returns_date_x',\n",
      "       'last_returns_date_x', 'cowry_amount', 'debit_card', 'is_archived',\n",
      "       'is_deleted', 'is_goal_achieved', 'is_a_goal', 'is_interest_free',\n",
      "       'is_deleted_from_group', 'is_a_fund', 'is_a_wallet',\n",
      "       'currency_is_dollars', 'is_auto_rollover', 'is_vendor_plan',\n",
      "       'plan_source', 'is_donation_plan', 'charge_payment_fee',\n",
      "       'donation_is_approved', 'is_emergency_plan', 'is_personal_challenge',\n",
      "       'currency_id', 'is_a_usd_index', 'open_savings_plan', 'new_cycle',\n",
      "       'is_bloom_note', 'is_managed_portfolio', 'is_fixed_investment',\n",
      "       'is_regular_savings', 'id', 'savings_id', 'maturity_start_date',\n",
      "       'maturity_end_date', 'amount_y', 'confirmed_amount', 'deduction_amount',\n",
      "       'new_balance', 'transaction_date', 'transaction_reference',\n",
      "       'transaction_status', 'book_returns', 'available_returns',\n",
      "       'returns_on_hold', 'last_returns_date_y', 'next_returns_date_y',\n",
      "       'created_on_y', 'card_billed_id', 'channel_id', 'charging_method_id',\n",
      "       'owner_id_y', 'transaction_type_id', 'verification_status_id',\n",
      "       'gateway_response_message', 'fee_in_kobo', 'is_anonymous',\n",
      "       'payment_gateway', 'currency', 'fee_in_cents'],\n",
      "      dtype='object')\n"
     ]
    }
   ],
   "source": [
    "print(merged_df.columns)\n"
   ]
  },
  {
   "cell_type": "code",
   "execution_count": 38,
   "id": "3eba46ee",
   "metadata": {},
   "outputs": [
    {
     "data": {
      "text/html": [
       "<div>\n",
       "<style scoped>\n",
       "    .dataframe tbody tr th:only-of-type {\n",
       "        vertical-align: middle;\n",
       "    }\n",
       "\n",
       "    .dataframe tbody tr th {\n",
       "        vertical-align: top;\n",
       "    }\n",
       "\n",
       "    .dataframe thead th {\n",
       "        text-align: right;\n",
       "    }\n",
       "</style>\n",
       "<table border=\"1\" class=\"dataframe\">\n",
       "  <thead>\n",
       "    <tr style=\"text-align: right;\">\n",
       "      <th></th>\n",
       "      <th>amount_x</th>\n",
       "      <th>amount_y</th>\n",
       "    </tr>\n",
       "  </thead>\n",
       "  <tbody>\n",
       "    <tr>\n",
       "      <th>0</th>\n",
       "      <td>2045300</td>\n",
       "      <td>2045300.0</td>\n",
       "    </tr>\n",
       "    <tr>\n",
       "      <th>1</th>\n",
       "      <td>2045300</td>\n",
       "      <td>2045300.0</td>\n",
       "    </tr>\n",
       "    <tr>\n",
       "      <th>2</th>\n",
       "      <td>2045300</td>\n",
       "      <td>2045300.0</td>\n",
       "    </tr>\n",
       "    <tr>\n",
       "      <th>3</th>\n",
       "      <td>2045300</td>\n",
       "      <td>2045300.0</td>\n",
       "    </tr>\n",
       "    <tr>\n",
       "      <th>4</th>\n",
       "      <td>2045300</td>\n",
       "      <td>2045300.0</td>\n",
       "    </tr>\n",
       "  </tbody>\n",
       "</table>\n",
       "</div>"
      ],
      "text/plain": [
       "   amount_x   amount_y\n",
       "0   2045300  2045300.0\n",
       "1   2045300  2045300.0\n",
       "2   2045300  2045300.0\n",
       "3   2045300  2045300.0\n",
       "4   2045300  2045300.0"
      ]
     },
     "execution_count": 38,
     "metadata": {},
     "output_type": "execute_result"
    }
   ],
   "source": [
    "\n",
    "merged_df[['amount_x', 'amount_y']].head()\n"
   ]
  },
  {
   "cell_type": "code",
   "execution_count": 39,
   "id": "d08d56c3",
   "metadata": {},
   "outputs": [
    {
     "data": {
      "text/plain": [
       "0    14/4/2022 13:02:49\n",
       "1    21/4/2022 01:30:33\n",
       "2    28/4/2022 01:30:49\n",
       "3     5/5/2022 01:30:46\n",
       "4    12/5/2022 01:30:43\n",
       "Name: transaction_date, dtype: object"
      ]
     },
     "execution_count": 39,
     "metadata": {},
     "output_type": "execute_result"
    }
   ],
   "source": [
    "merged_df['transaction_date'].head()"
   ]
  },
  {
   "cell_type": "code",
   "execution_count": 40,
   "id": "41b952b0",
   "metadata": {},
   "outputs": [
    {
     "name": "stderr",
     "output_type": "stream",
     "text": [
      "C:\\Users\\manca\\AppData\\Local\\Temp\\ipykernel_12404\\1893753140.py:2: UserWarning: Parsing dates in %d/%m/%Y %H:%M:%S format when dayfirst=False (the default) was specified. Pass `dayfirst=True` or specify a format to silence this warning.\n",
      "  merged_df['transaction_date'] = pd.to_datetime(merged_df['transaction_date'])\n"
     ]
    },
    {
     "data": {
      "image/png": "[encoded data removed]",
      "text/plain": [
       "<Figure size 1000x600 with 1 Axes>"
      ]
     },
     "metadata": {},
     "output_type": "display_data"
    }
   ],
   "source": [
    "\n",
    "# Ensure transaction_date is in datetime format\n",
    "merged_df['transaction_date'] = pd.to_datetime(merged_df['transaction_date'])\n",
    "\n",
    "# Extract the year from the transaction_date\n",
    "merged_df['transaction_year'] = merged_df['transaction_date'].dt.year\n",
    "\n",
    "# Group by year and sum the amount\n",
    "yearly_amount = merged_df.groupby('transaction_year')['amount_x'].sum()\n",
    "\n",
    "# Plotting the total transaction amount by year\n",
    "plt.figure(figsize=(10, 6))\n",
    "yearly_amount.plot(kind='bar', color='skyblue')\n",
    "plt.title('Total Transaction Amount by Year')\n",
    "plt.xlabel('Year')\n",
    "plt.ylabel('Total Amount')\n",
    "plt.xticks(rotation=0)\n",
    "plt.tight_layout()\n",
    "plt.show()\n",
    "\n"
   ]
  },
  {
   "cell_type": "markdown",
   "id": "e2d9863d",
   "metadata": {},
   "source": [
    "Which transaction channel is used the most?"
   ]
  },
  {
   "cell_type": "code",
   "execution_count": 41,
   "id": "505af8de",
   "metadata": {},
   "outputs": [
    {
     "name": "stdout",
     "output_type": "stream",
     "text": [
      "The most used transaction channel is: 5 with 144577 transactions.\n"
     ]
    },
    {
     "data": {
      "image/png": "[encoded data removed]",
      "text/plain": [
       "<Figure size 1000x600 with 1 Axes>"
      ]
     },
     "metadata": {},
     "output_type": "display_data"
    }
   ],
   "source": [
    "# Count the number of transactions per channel\n",
    "channel_counts = merged_df['channel_id'].value_counts()\n",
    "\n",
    "# Get the most used transaction channel\n",
    "most_used_channel = channel_counts.idxmax()\n",
    "most_used_count = channel_counts.max()\n",
    "\n",
    "print(f\"The most used transaction channel is: {most_used_channel} with {most_used_count} transactions.\")\n",
    "\n",
    "# Optional: Plot all channel usage\n",
    "channel_counts.plot(kind='bar', figsize=(10, 6))\n",
    "plt.title('Transaction Count by Channel')\n",
    "plt.xlabel('Channel ID')\n",
    "plt.ylabel('Number of Transactions')\n",
    "plt.xticks(rotation=360)\n",
    "plt.tight_layout()\n",
    "plt.show()"
   ]
  },
  {
   "cell_type": "markdown",
   "id": "7e956052",
   "metadata": {},
   "source": [
    "\n",
    "What are the most frequent transaction statuses and types?"
   ]
  },
  {
   "cell_type": "code",
   "execution_count": 42,
   "id": "210a54f5",
   "metadata": {},
   "outputs": [
    {
     "name": "stdout",
     "output_type": "stream",
     "text": [
      "Top 10 Transaction Statuses:\n",
      "transaction_status\n",
      "success            106727\n",
      "failed              54144\n",
      "redemption           1059\n",
      "earnings              925\n",
      "monnify_success       321\n",
      "Name: count, dtype: int64\n"
     ]
    },
    {
     "data": {
      "image/png": "[encoded data removed]",
      "text/plain": [
       "<Figure size 1000x600 with 1 Axes>"
      ]
     },
     "metadata": {},
     "output_type": "display_data"
    }
   ],
   "source": [
    "\n",
    "\n",
    "# Count the most frequent transaction statuses\n",
    "status_counts = merged_df['transaction_status'].value_counts(dropna=False)\n",
    "\n",
    "# Print top 10 statuses\n",
    "print(\"Top 10 Transaction Statuses:\")\n",
    "print(status_counts.head(5))\n",
    "\n",
    "# Plot top 10 statuses\n",
    "plt.figure(figsize=(10, 6))\n",
    "status_counts.head(5).plot(kind='bar', color='skyblue')\n",
    "plt.title(\"Top 10 Transaction Statuses\")\n",
    "plt.xlabel(\"Transaction Status\")\n",
    "plt.ylabel(\"Count\")\n",
    "plt.xticks(rotation=45)\n",
    "plt.tight_layout()\n",
    "plt.show()\n",
    "\n",
    "\n"
   ]
  },
  {
   "cell_type": "markdown",
   "id": "a0310836",
   "metadata": {},
   "source": [
    "\n",
    "\n",
    "What is the average transaction amount by transaction type?\n",
    "\n"
   ]
  },
  {
   "cell_type": "code",
   "execution_count": 43,
   "id": "7e1118c9",
   "metadata": {},
   "outputs": [
    {
     "name": "stdout",
     "output_type": "stream",
     "text": [
      "Average Transaction Amount by Transaction Type:\n",
      "transaction_type_id\n",
      "8     1.592750e+07\n",
      "15    1.450000e+07\n",
      "3     1.362596e+07\n",
      "1     1.127733e+07\n",
      "12    7.225038e+06\n",
      "10    5.979676e+06\n",
      "5     5.692088e+06\n",
      "2     5.526862e+06\n",
      "16    3.861050e+06\n",
      "13    3.206296e+06\n",
      "7     2.597500e+05\n",
      "9     0.000000e+00\n",
      "11    0.000000e+00\n",
      "14    0.000000e+00\n",
      "Name: amount_x, dtype: float64\n"
     ]
    },
    {
     "data": {
      "image/png": "[encoded data removed]",
      "text/plain": [
       "<Figure size 1000x600 with 1 Axes>"
      ]
     },
     "metadata": {},
     "output_type": "display_data"
    }
   ],
   "source": [
    "avg_amount_by_type = merged_df.groupby('transaction_type_id')['amount_x'].mean().sort_values(ascending=False)\n",
    "\n",
    "# Print the result\n",
    "print(\"Average Transaction Amount by Transaction Type:\")\n",
    "print(avg_amount_by_type)\n",
    "\n",
    "# Plot the result\n",
    "plt.figure(figsize=(10, 6))\n",
    "avg_amount_by_type.plot(kind='bar', color='green')\n",
    "plt.title(\"Average Transaction Amount by Transaction Type\")\n",
    "plt.xlabel(\"Transaction Type ID\")\n",
    "plt.ylabel(\"Average Amount\")\n",
    "plt.xticks(rotation=45)\n",
    "plt.tight_layout()\n",
    "plt.show()"
   ]
  },
  {
   "cell_type": "markdown",
   "id": "a667b88b",
   "metadata": {},
   "source": [
    "\n",
    "\n",
    "Are there patterns or spikes in transaction dates? (Time series)"
   ]
  },
  {
   "cell_type": "code",
   "execution_count": 44,
   "id": "7ca5d920",
   "metadata": {},
   "outputs": [
    {
     "data": {
      "image/png": "[encoded data removed]",
      "text/plain": [
       "<Figure size 1200x600 with 1 Axes>"
      ]
     },
     "metadata": {},
     "output_type": "display_data"
    }
   ],
   "source": [
    "# Convert to datetime if not already\n",
    "merged_df['transaction_date_dt'] = pd.to_datetime(merged_df['transaction_date'])\n",
    "\n",
    "# Group by date and count number of transactions\n",
    "daily_transactions = merged_df.groupby(merged_df['transaction_date_dt'].dt.date).size()\n",
    "\n",
    "# Plot the time series\n",
    "plt.figure(figsize=(12, 6))\n",
    "daily_transactions.plot(kind='line', color='purple')\n",
    "plt.title(\"Transaction Volume Over Time\")\n",
    "plt.xlabel(\"Date\")\n",
    "plt.ylabel(\"Number of Transactions\")\n",
    "plt.tight_layout()\n",
    "plt.show()"
   ]
  },
  {
   "cell_type": "markdown",
   "id": "be467873",
   "metadata": {},
   "source": [
    "What is the distribution of fraud_score? Are there high-risk users?\n",
    "\n",
    "\n",
    "\n"
   ]
  },
  {
   "cell_type": "code",
   "execution_count": 49,
   "id": "375721d0",
   "metadata": {},
   "outputs": [
    {
     "name": "stderr",
     "output_type": "stream",
     "text": [
      "C:\\Users\\manca\\AppData\\Local\\Packages\\PythonSoftwareFoundation.Python.3.11_qbz5n2kfra8p0\\LocalCache\\local-packages\\Python311\\site-packages\\seaborn\\_oldcore.py:1119: FutureWarning: use_inf_as_na option is deprecated and will be removed in a future version. Convert inf values to NaN before operating instead.\n",
      "  with pd.option_context('mode.use_inf_as_na', True):\n"
     ]
    },
    {
     "data": {
      "image/png": "[encoded data removed]",
      "text/plain": [
       "<Figure size 1000x600 with 1 Axes>"
      ]
     },
     "metadata": {},
     "output_type": "display_data"
    }
   ],
   "source": [
    "import seaborn as sns\n",
    "# Plot distribution of fraud_score\n",
    "plt.figure(figsize=(10, 6))\n",
    "sns.histplot(merged_df['is_a_fund'], bins=30, kde=True)\n",
    "plt.title('Distribution of Fraud Score')\n",
    "plt.xlabel('Fraud Score')\n",
    "plt.ylabel('Frequency')\n",
    "plt.show()"
   ]
  }
 ],
 "metadata": {
  "kernelspec": {
   "display_name": "Python 3",
   "language": "python",
   "name": "python3"
  },
  "language_info": {
   "codemirror_mode": {
    "name": "ipython",
    "version": 3
   },
   "file_extension": ".py",
   "mimetype": "text/x-python",
   "name": "python",
   "nbconvert_exporter": "python",
   "pygments_lexer": "ipython3",
   "version": "3.11.9"
  }
 },
 "nbformat": 4,
 "nbformat_minor": 5
}
